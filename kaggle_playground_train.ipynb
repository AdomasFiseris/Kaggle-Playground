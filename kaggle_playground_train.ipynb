{
 "cells": [
  {
   "cell_type": "code",
   "execution_count": 8,
   "id": "7afd2e5e",
   "metadata": {},
   "outputs": [],
   "source": [
    "# Packages\n",
    "import pandas as pd\n",
    "import numpy as np\n",
    "from sklearn.pipeline        import Pipeline\n",
    "from sklearn.compose         import ColumnTransformer\n",
    "from sklearn.preprocessing   import OneHotEncoder, FunctionTransformer\n",
    "from sklearn.model_selection import GridSearchCV, train_test_split, cross_val_score\n",
    "from sklearn.metrics         import make_scorer\n",
    "from sklearn.base            import clone\n",
    "from xgboost                 import XGBRegressor\n",
    "import joblib, mlflow\n",
    "import mlflow.sklearn"
   ]
  },
  {
   "cell_type": "code",
   "execution_count": null,
   "id": "2f3723e9",
   "metadata": {},
   "outputs": [],
   "source": [
    "\n",
    "# Custom Metric for Training Feedback\n",
    "def rmsle_xgb(preds, dtrain):\n",
    "    y_true = dtrain.get_label()\n",
    "    preds = np.maximum(preds, 0)\n",
    "    rmsle = np.sqrt(np.mean((np.log1p(preds) - np.log1p(y_true)) ** 2))\n",
    "    return 'rmsle', rmsle\n",
    "\n",
    "# Custom Metric for GridSearch (wrapped in make_scorer)\n",
    "def rmsle_sklearn(y_true, y_pred):\n",
    "    y_pred = np.maximum(y_pred, 0)\n",
    "    return np.sqrt(np.mean((np.log1p(y_pred) - np.log1p(y_true)) ** 2))\n",
    "\n",
    "rmsle_scorer = make_scorer(rmsle_sklearn, greater_is_better=False)\n",
    "# Data\n",
    "df = pd.read_csv('playground-series-s5e5/train.csv')\n",
    "y = df['Calories']\n",
    "X = df.drop(columns=(['Calories', 'id']))\n",
    "\n",
    "X_train, X_val, y_train, y_val = train_test_split(\n",
    "    X, y,\n",
    "    test_size=0.2,\n",
    "    random_state=42,\n",
    "    stratify=X['Sex']\n",
    ")\n",
    "\n",
    "# Custom Feature Engineering\n",
    "def add_bmi_intensity(X_df: pd.DataFrame) -> pd.DataFrame:\n",
    "    \"\"\"Adds BMI and HeartRatexDuration features\"\"\"\n",
    "    X = X_df.copy()\n",
    "    X['BMI'] = (X['Weight'] / (X['Height'] / 100) ** 2).round(2)\n",
    "    X['Timed_Intensity'] = X['Duration'] * X['Heart_Rate']\n",
    "    return X\n",
    "\n",
    "feat_eng = FunctionTransformer(add_bmi_intensity, validate=False)\n",
    "\n",
    "# Preprocessor\n",
    "cat_col = ['Sex']\n",
    "preprocess = ColumnTransformer(\n",
    "    transformers=[\n",
    "        ('cat', OneHotEncoder(drop='first'), cat_col)\n",
    "    ],\n",
    "    remainder='passthrough'\n",
    ")"
   ]
  },
  {
   "cell_type": "code",
   "execution_count": 2,
   "id": "e1e92589",
   "metadata": {},
   "outputs": [],
   "source": [
    "# ──────────────────────────────────────────────────────────────────────\n",
    "# MODEL & PIPELINE\n",
    "# ──────────────────────────────────────────────────────────────────────\n",
    "xgb = XGBRegressor(\n",
    "        objective=\"reg:squarederror\",\n",
    "        random_state=42,\n",
    "        n_estimators=800,\n",
    "        learning_rate=0.05,\n",
    "        max_depth=6,\n",
    "        subsample=0.8,\n",
    "        colsample_bytree=0.8\n",
    ")\n",
    "\n",
    "pipe = Pipeline(steps=[\n",
    "        (\"feat_eng\",   feat_eng),\n",
    "        (\"preprocess\", preprocess),\n",
    "        (\"model\",      xgb)\n",
    "])\n",
    "\n",
    "# ──────────────────────────────────────────────────────────────────────\n",
    "# GRID  (prefix params with model__)\n",
    "# ──────────────────────────────────────────────────────────────────────\n",
    "param_grid = {\n",
    "    \"model__max_depth\":        [4, 6, 8],\n",
    "    \"model__learning_rate\":    [0.03, 0.05, 0.07],\n",
    "    \"model__n_estimators\":     [600, 800, 1000],\n",
    "    \"model__subsample\":        [0.8, 1.0],\n",
    "    \"model__colsample_bytree\": [0.8, 1.0],\n",
    "}\n",
    "\n",
    "gcv = GridSearchCV(\n",
    "        estimator   = pipe,\n",
    "        param_grid  = param_grid,\n",
    "        scoring     = rmsle_scorer,     \n",
    "        cv          = 5,                \n",
    "        n_jobs      = -1,\n",
    "        verbose     = 2,             \n",
    ")"
   ]
  },
  {
   "cell_type": "code",
   "execution_count": 5,
   "id": "68c3f4ee",
   "metadata": {},
   "outputs": [
    {
     "name": "stderr",
     "output_type": "stream",
     "text": [
      "2025/05/16 21:12:25 INFO mlflow.tracking.fluent: Experiment with name 'Calories-XGB-GridSearch' does not exist. Creating a new experiment.\n"
     ]
    }
   ],
   "source": [
    "# ──────────────────────────────────────────────────────────────────────\n",
    "# MLFLOW SETUP\n",
    "# ──────────────────────────────────────────────────────────────────────\n",
    "mlflow.set_tracking_uri(\"http://127.0.0.1:5000\")\n",
    "mlflow.set_experiment(\"Calories-XGB-GridSearch\")\n",
    "\n",
    "mlflow.sklearn.autolog(log_model_signatures=True,\n",
    "                       log_input_examples=False,\n",
    "                       disable=False)"
   ]
  },
  {
   "cell_type": "code",
   "execution_count": 6,
   "id": "c127d321",
   "metadata": {},
   "outputs": [
    {
     "name": "stderr",
     "output_type": "stream",
     "text": [
      "2025/05/16 21:39:31 WARNING mlflow.utils.autologging_utils: MLflow autologging encountered a warning: \"C:\\Users\\afise\\AppData\\Local\\Packages\\PythonSoftwareFoundation.Python.3.11_qbz5n2kfra8p0\\LocalCache\\local-packages\\Python311\\site-packages\\mlflow\\types\\utils.py:407: UserWarning: Hint: Inferred schema contains integer column(s). Integer columns in Python cannot represent missing values. If your input data contains missing values at inference time, it will be encoded as floats and will cause a schema enforcement error. The best way to avoid this problem is to infer the model schema based on a realistic data sample (training dataset) that includes missing values. Alternatively, you can declare integer columns as doubles (float64) whenever these columns may have missing values. See `Handling Integers With Missing Values <https://www.mlflow.org/docs/latest/models.html#handling-integers-with-missing-values>`_ for more details.\"\n"
     ]
    },
    {
     "name": "stdout",
     "output_type": "stream",
     "text": [
      "Fitting 5 folds for each of 108 candidates, totalling 540 fits\n"
     ]
    },
    {
     "name": "stderr",
     "output_type": "stream",
     "text": [
      "2025/05/16 22:31:24 WARNING mlflow.utils.autologging_utils: MLflow autologging encountered a warning: \"C:\\Users\\afise\\AppData\\Local\\Packages\\PythonSoftwareFoundation.Python.3.11_qbz5n2kfra8p0\\LocalCache\\local-packages\\Python311\\site-packages\\sklearn\\compose\\_column_transformer.py:1623: FutureWarning: \n",
      "The format of the columns of the 'remainder' transformer in ColumnTransformer.transformers_ will change in version 1.7 to match the format of the other transformers.\n",
      "At the moment the remainder columns are stored as indices (of type int). With the same ColumnTransformer configuration, in the future they will be stored as column names (of type str).\n",
      "To use the new behavior now and suppress this warning, use ColumnTransformer(force_int_remainder_cols=False).\n",
      "\"\n",
      "2025/05/16 22:31:24 INFO mlflow.sklearn.utils: Logging the 5 best runs, 103 runs will be omitted.\n",
      "2025/05/16 22:31:25 INFO mlflow.tracking._tracking_service.client: 🏃 View run skittish-doe-403 at: http://127.0.0.1:5000/#/experiments/1/runs/9781b448407c45f1894fc106ea7f0c82.\n",
      "2025/05/16 22:31:25 INFO mlflow.tracking._tracking_service.client: 🧪 View experiment at: http://127.0.0.1:5000/#/experiments/1.\n",
      "2025/05/16 22:31:25 INFO mlflow.tracking._tracking_service.client: 🏃 View run loud-pig-332 at: http://127.0.0.1:5000/#/experiments/1/runs/d73fa9e768704d8098b3c337f10ca369.\n",
      "2025/05/16 22:31:25 INFO mlflow.tracking._tracking_service.client: 🧪 View experiment at: http://127.0.0.1:5000/#/experiments/1.\n",
      "2025/05/16 22:31:25 INFO mlflow.tracking._tracking_service.client: 🏃 View run wistful-dog-417 at: http://127.0.0.1:5000/#/experiments/1/runs/98cb974740dc446cb158bec48d2a8ed7.\n",
      "2025/05/16 22:31:25 INFO mlflow.tracking._tracking_service.client: 🧪 View experiment at: http://127.0.0.1:5000/#/experiments/1.\n",
      "2025/05/16 22:31:25 INFO mlflow.tracking._tracking_service.client: 🏃 View run rumbling-turtle-359 at: http://127.0.0.1:5000/#/experiments/1/runs/c8d81b52a09a41749dfc4a71cbe528d2.\n",
      "2025/05/16 22:31:25 INFO mlflow.tracking._tracking_service.client: 🧪 View experiment at: http://127.0.0.1:5000/#/experiments/1.\n",
      "2025/05/16 22:31:25 INFO mlflow.tracking._tracking_service.client: 🏃 View run debonair-smelt-951 at: http://127.0.0.1:5000/#/experiments/1/runs/3c0867f3caad4607bb951705690c59eb.\n",
      "2025/05/16 22:31:25 INFO mlflow.tracking._tracking_service.client: 🧪 View experiment at: http://127.0.0.1:5000/#/experiments/1.\n",
      "2025/05/16 22:31:25 INFO mlflow.tracking._tracking_service.client: 🏃 View run gridsearch_rmsle_parent at: http://127.0.0.1:5000/#/experiments/1/runs/588c142f01914652995408e8de803baa.\n",
      "2025/05/16 22:31:25 INFO mlflow.tracking._tracking_service.client: 🧪 View experiment at: http://127.0.0.1:5000/#/experiments/1.\n"
     ]
    }
   ],
   "source": [
    "# GRID-SEARCH RUN  ──────────────────────────────────────────────\n",
    "with mlflow.start_run(run_name=\"gridsearch_rmsle_parent\"):\n",
    "\n",
    "    mlflow.sklearn.autolog(log_models=False)\n",
    "    gcv.fit(X_train, y_train)\n",
    "    mlflow.log_params(gcv.best_params_)\n",
    "    mlflow.log_metric(\"best_neg_rmsle_cv\", gcv.best_score_)\n",
    "\n",
    "best_params = gcv.best_params_"
   ]
  },
  {
   "cell_type": "code",
   "execution_count": 18,
   "id": "2c2a866a",
   "metadata": {},
   "outputs": [
    {
     "name": "stderr",
     "output_type": "stream",
     "text": [
      "2025/05/17 23:34:28 WARNING mlflow.utils.autologging_utils: MLflow autologging encountered a warning: \"C:\\Users\\afise\\AppData\\Local\\Packages\\PythonSoftwareFoundation.Python.3.11_qbz5n2kfra8p0\\LocalCache\\local-packages\\Python311\\site-packages\\mlflow\\types\\utils.py:407: UserWarning: Hint: Inferred schema contains integer column(s). Integer columns in Python cannot represent missing values. If your input data contains missing values at inference time, it will be encoded as floats and will cause a schema enforcement error. The best way to avoid this problem is to infer the model schema based on a realistic data sample (training dataset) that includes missing values. Alternatively, you can declare integer columns as doubles (float64) whenever these columns may have missing values. See `Handling Integers With Missing Values <https://www.mlflow.org/docs/latest/models.html#handling-integers-with-missing-values>`_ for more details.\"\n",
      "C:\\Users\\afise\\AppData\\Local\\Packages\\PythonSoftwareFoundation.Python.3.11_qbz5n2kfra8p0\\LocalCache\\local-packages\\Python311\\site-packages\\xgboost\\core.py:158: UserWarning: [23:34:28] WARNING: C:\\buildkite-agent\\builds\\buildkite-windows-cpu-autoscaling-group-i-0015a694724fa8361-1\\xgboost\\xgboost-ci-windows\\src\\learner.cc:740: \n",
      "Parameters: { \"verbose\" } are not used.\n",
      "\n",
      "  warnings.warn(smsg, UserWarning)\n",
      "2025/05/17 23:34:41 WARNING mlflow.utils.autologging_utils: MLflow autologging encountered a warning: \"C:\\Users\\afise\\AppData\\Local\\Packages\\PythonSoftwareFoundation.Python.3.11_qbz5n2kfra8p0\\LocalCache\\local-packages\\Python311\\site-packages\\sklearn\\compose\\_column_transformer.py:1623: FutureWarning: \n",
      "The format of the columns of the 'remainder' transformer in ColumnTransformer.transformers_ will change in version 1.7 to match the format of the other transformers.\n",
      "At the moment the remainder columns are stored as indices (of type int). With the same ColumnTransformer configuration, in the future they will be stored as column names (of type str).\n",
      "To use the new behavior now and suppress this warning, use ColumnTransformer(force_int_remainder_cols=False).\n",
      "\"\n",
      "2025/05/17 23:41:21 WARNING mlflow.utils.autologging_utils: MLflow autologging encountered a warning: \"C:\\Users\\afise\\AppData\\Local\\Packages\\PythonSoftwareFoundation.Python.3.11_qbz5n2kfra8p0\\LocalCache\\local-packages\\Python311\\site-packages\\mlflow\\types\\utils.py:407: UserWarning: Hint: Inferred schema contains integer column(s). Integer columns in Python cannot represent missing values. If your input data contains missing values at inference time, it will be encoded as floats and will cause a schema enforcement error. The best way to avoid this problem is to infer the model schema based on a realistic data sample (training dataset) that includes missing values. Alternatively, you can declare integer columns as doubles (float64) whenever these columns may have missing values. See `Handling Integers With Missing Values <https://www.mlflow.org/docs/latest/models.html#handling-integers-with-missing-values>`_ for more details.\"\n",
      "2025/05/17 23:41:36 WARNING mlflow.models.model: Model logged without a signature and input example. Please set `input_example` parameter when logging the model to auto infer the model signature.\n",
      "2025/05/17 23:41:36 INFO mlflow.tracking._tracking_service.client: 🏃 View run final_rmsle_model at: http://127.0.0.1:5000/#/experiments/1/runs/26059eabeb6c4a95b3d797488a211a64.\n",
      "2025/05/17 23:41:36 INFO mlflow.tracking._tracking_service.client: 🧪 View experiment at: http://127.0.0.1:5000/#/experiments/1.\n"
     ]
    }
   ],
   "source": [
    "# FINAL-MODEL RUN  ──────────────────────────────────────────────\n",
    "with mlflow.start_run(run_name=\"final_rmsle_model\") as run:\n",
    "\n",
    "    mlflow.log_params(best_params)\n",
    "\n",
    "    # fresh clone to avoid any state leakage from grid-search\n",
    "    best_pipe = clone(pipe).set_params(\n",
    "            **best_params,\n",
    "            model__eval_metric=rmsle_xgb,\n",
    "            model__verbose=10\n",
    "    )\n",
    "    \n",
    "    # train with early-stopping feedback on the 20 % validation split\n",
    "    best_pipe.fit(X_train, y_train)\n",
    "\n",
    "    # record the best_iteration and validation RMSLE\n",
    "    val_pred = best_pipe.predict(X_val)\n",
    "    mlflow.log_metric(\"val_rmsle\", rmsle_sklearn(y_val, val_pred))\n",
    "\n",
    "    mlflow.sklearn.log_model(best_pipe, artifact_path=\"model\")"
   ]
  },
  {
   "cell_type": "code",
   "execution_count": 26,
   "id": "219fe35a",
   "metadata": {},
   "outputs": [
    {
     "name": "stderr",
     "output_type": "stream",
     "text": [
      "2025/05/18 00:16:48 WARNING mlflow.utils.autologging_utils: MLflow autologging encountered a warning: \"C:\\Users\\afise\\AppData\\Local\\Packages\\PythonSoftwareFoundation.Python.3.11_qbz5n2kfra8p0\\LocalCache\\local-packages\\Python311\\site-packages\\mlflow\\types\\utils.py:407: UserWarning: Hint: Inferred schema contains integer column(s). Integer columns in Python cannot represent missing values. If your input data contains missing values at inference time, it will be encoded as floats and will cause a schema enforcement error. The best way to avoid this problem is to infer the model schema based on a realistic data sample (training dataset) that includes missing values. Alternatively, you can declare integer columns as doubles (float64) whenever these columns may have missing values. See `Handling Integers With Missing Values <https://www.mlflow.org/docs/latest/models.html#handling-integers-with-missing-values>`_ for more details.\"\n"
     ]
    }
   ],
   "source": [
    "# ──────────────────────────────────────────────────────────────────────\n",
    "# TEST SET RUN\n",
    "# ──────────────────────────────────────────────────────────────────────\n",
    "\n",
    "df_test = pd.read_csv(\"playground-series-s5e5/test.csv\")\n",
    "ids = df_test[\"id\"]\n",
    "\n",
    "X_test = df_test.drop(columns=[\"id\"])\n",
    "test_preds = best_pipe.predict(X_test)\n",
    "submission = pd.DataFrame({\n",
    "    \"id\": ids,\n",
    "    \"Calories\": test_preds\n",
    "})\n",
    "\n",
    "import os\n",
    "if os.path.isfile(\"submission.csv\"):\n",
    "    pass\n",
    "else:\n",
    "    submission.to_csv(\"submission.csv\", index=False)"
   ]
  },
  {
   "cell_type": "code",
   "execution_count": null,
   "id": "2b6b8a13",
   "metadata": {},
   "outputs": [],
   "source": []
  }
 ],
 "metadata": {
  "kernelspec": {
   "display_name": "Python 3",
   "language": "python",
   "name": "python3"
  },
  "language_info": {
   "codemirror_mode": {
    "name": "ipython",
    "version": 3
   },
   "file_extension": ".py",
   "mimetype": "text/x-python",
   "name": "python",
   "nbconvert_exporter": "python",
   "pygments_lexer": "ipython3",
   "version": "3.11.9"
  }
 },
 "nbformat": 4,
 "nbformat_minor": 5
}
