{
 "cells": [
  {
   "cell_type": "code",
   "execution_count": 38,
   "id": "06932f58",
   "metadata": {},
   "outputs": [],
   "source": [
    "# Packages\n",
    "import pandas as pd\n",
    "import numpy as np\n",
    "from sklearn.pipeline        import Pipeline\n",
    "from sklearn.compose         import ColumnTransformer\n",
    "from sklearn.preprocessing   import OneHotEncoder, FunctionTransformer\n",
    "from sklearn.model_selection import GridSearchCV, train_test_split, cross_val_score, KFold\n",
    "from sklearn.metrics         import make_scorer\n",
    "from sklearn.base            import clone\n",
    "from xgboost                 import XGBRegressor\n",
    "import joblib, mlflow\n",
    "import mlflow.sklearn\n",
    "import optuna\n",
    "import warnings\n",
    "from optuna.integration import OptunaSearchCV, MLflowCallback\n",
    "from optuna.distributions import FloatDistribution, IntDistribution\n",
    "from catboost import CatBoostRegressor, Pool\n",
    "\n",
    "# Custom Metric for Training Feedback\n",
    "def rmsle_xgb(preds, dtrain):\n",
    "    y_true = dtrain.get_label()\n",
    "    preds = np.maximum(preds, 0)\n",
    "    rmsle = np.sqrt(np.mean((np.log1p(preds) - np.log1p(y_true)) ** 2))\n",
    "    return 'rmsle', rmsle\n",
    "\n",
    "# Custom Metric for GridSearch (wrapped in make_scorer)\n",
    "def rmsle_sklearn(y_true, y_pred):\n",
    "    y_pred = np.maximum(y_pred, 0)\n",
    "    return np.sqrt(np.mean((np.log1p(y_pred) - np.log1p(y_true)) ** 2))\n",
    "\n",
    "rmsle_scorer = make_scorer(rmsle_sklearn, greater_is_better=False)\n",
    "# Data\n",
    "df = pd.read_csv('playground-series-s5e5/train.csv')\n",
    "y = df['Calories']\n",
    "X = df.drop(columns=(['Calories', 'id']))\n",
    "\n",
    "X_train, X_val, y_train, y_val = train_test_split(\n",
    "    X, y,\n",
    "    test_size=0.2,\n",
    "    random_state=42,\n",
    "    stratify=X['Sex']\n",
    ")\n",
    "\n",
    "# Custom Feature Engineering\n",
    "def add_bmi_intensity(X_df: pd.DataFrame) -> pd.DataFrame:\n",
    "    \"\"\"Adds BMI and HeartRatexDuration features\"\"\"\n",
    "    X = X_df.copy()\n",
    "    X['BMI'] = (X['Weight'] / (X['Height'] / 100) ** 2).round(2)\n",
    "    X['Timed_Intensity'] = X['Duration'] * X['Heart_Rate']\n",
    "    X['Heart_Rate_Zone'] = (\n",
    "        X['Heart_Rate'] / (220 - X['Age'])\n",
    "    ) * 100\n",
    "    X['Mifflin_Jeor_BMR'] = np.where(\n",
    "        X['Sex'] == 'male',\n",
    "        (10 * X['Weight']) + (6.25 * X['Height']) - (5 * X['Age']) + 5,\n",
    "        (10 * X['Weight']) + (6.25 * X['Height']) - (5 * X['Age']) - 161,\n",
    "    )\n",
    "    return X\n",
    "\n",
    "feat_eng = FunctionTransformer(add_bmi_intensity, validate=False)\n",
    "# ──────────────────────────────────────────────────────────────────────\n",
    "# MODEL & PIPELINE\n",
    "# ──────────────────────────────────────────────────────────────────────\n",
    "cat_model = CatBoostRegressor(\n",
    "        loss_function=\"RMSE\",\n",
    "        random_seed=42,\n",
    "        verbose=False,\n",
    "        cat_features=[\"Sex\"]\n",
    ")\n",
    "\n",
    "pipe = Pipeline([\n",
    "    (\"feat_eng\", feat_eng),\n",
    "    (\"model\", cat_model)\n",
    "])\n",
    "# ──────────────────────────────────────────────────────────────────────\n",
    "# GRID  (prefix params with model__)\n",
    "# ──────────────────────────────────────────────────────────────────────\n",
    "def cat_objective(trial):\n",
    "    params = {\n",
    "        \"model__depth\":               trial.suggest_int(\"model__depth\", 5, 10),\n",
    "        \"model__iterations\":          trial.suggest_int(\"model__iterations\", 600, 1600),\n",
    "        \"model__learning_rate\":       trial.suggest_float(\"model__learning_rate\", 0.01, 0.2, log=True),\n",
    "        \"model__l2_leaf_reg\":         trial.suggest_float(\"model__l2_leaf_reg\", 1, 10, log=True),\n",
    "        \"model__bagging_temperature\": trial.suggest_float(\"model__bagging_temperature\", 0, 1),\n",
    "    }\n",
    "\n",
    "    score = cross_val_score(\n",
    "                clone(pipe).set_params(**params),\n",
    "                X_train, y_train,\n",
    "                scoring=rmsle_scorer,\n",
    "                cv=5,\n",
    "                n_jobs=-1\n",
    "            ).mean()\n",
    "    return score"
   ]
  },
  {
   "cell_type": "code",
   "execution_count": null,
   "id": "18f17d8b",
   "metadata": {},
   "outputs": [],
   "source": [
    "# ------------------------------------------------------------------\n",
    "# MLFLOW + OPTUNA LOOP  (same structure)\n",
    "# ------------------------------------------------------------------\n",
    "mlflow.set_tracking_uri(\"http://127.0.0.1:5000\")\n",
    "\n",
    "\n",
    "mlflow.set_experiment(\"Calories-CB-Optuna-V3\")\n",
    "mlflow.sklearn.autolog(log_models=False)\n",
    "\n",
    "study_cb = optuna.create_study(direction=\"maximize\", study_name=\"cat_rmsle_1\")\n",
    "\n",
    "with mlflow.start_run(run_name=\"optuna_parent_cb\"):\n",
    "    mlflow_cb = MLflowCallback(\n",
    "        tracking_uri=mlflow.get_tracking_uri(),\n",
    "        metric_name=\"neg_rmsle_cv\",\n",
    "        mlflow_kwargs={\"nested\": True}\n",
    "    )\n",
    "\n",
    "    study_cb.optimize(cat_objective, n_trials=50, callbacks=[mlflow_cb], show_progress_bar=True)\n",
    "\n",
    "    mlflow.log_params(study_cb.best_trial.params)\n",
    "    mlflow.log_metric(\"best_neg_rmsle_cv\", study_cb.best_value)"
   ]
  },
  {
   "cell_type": "code",
   "execution_count": 40,
   "id": "3e0cfe2b",
   "metadata": {},
   "outputs": [
    {
     "name": "stderr",
     "output_type": "stream",
     "text": [
      "2025/05/25 14:26:50 INFO mlflow.utils.autologging_utils: Created MLflow autologging run with ID '7d61280d7abb48dc86b7de3a3f248c59', which will track hyperparameters, performance metrics, model artifacts, and lineage information for the current sklearn workflow\n",
      "2025/05/25 14:59:38 WARNING mlflow.utils.autologging_utils: MLflow autologging encountered a warning: \"C:\\Users\\afise\\AppData\\Local\\Packages\\PythonSoftwareFoundation.Python.3.11_qbz5n2kfra8p0\\LocalCache\\local-packages\\Python311\\site-packages\\mlflow\\types\\utils.py:407: UserWarning: Hint: Inferred schema contains integer column(s). Integer columns in Python cannot represent missing values. If your input data contains missing values at inference time, it will be encoded as floats and will cause a schema enforcement error. The best way to avoid this problem is to infer the model schema based on a realistic data sample (training dataset) that includes missing values. Alternatively, you can declare integer columns as doubles (float64) whenever these columns may have missing values. See `Handling Integers With Missing Values <https://www.mlflow.org/docs/latest/models.html#handling-integers-with-missing-values>`_ for more details.\"\n",
      "2025/05/25 15:01:16 INFO mlflow.tracking._tracking_service.client: 🏃 View run honorable-turtle-809 at: http://127.0.0.1:5000/#/experiments/10/runs/7d61280d7abb48dc86b7de3a3f248c59.\n",
      "2025/05/25 15:01:16 INFO mlflow.tracking._tracking_service.client: 🧪 View experiment at: http://127.0.0.1:5000/#/experiments/10.\n",
      "2025/05/25 15:01:32 WARNING mlflow.models.model: Model logged without a signature and input example. Please set `input_example` parameter when logging the model to auto infer the model signature.\n",
      "2025/05/25 15:01:32 INFO mlflow.tracking._tracking_service.client: 🏃 View run catboost_final_fit at: http://127.0.0.1:5000/#/experiments/10/runs/19efc926545c43d481a7a13b1b002178.\n",
      "2025/05/25 15:01:32 INFO mlflow.tracking._tracking_service.client: 🧪 View experiment at: http://127.0.0.1:5000/#/experiments/10.\n"
     ]
    }
   ],
   "source": [
    "# ------------------------------------------------------------------\n",
    "# Best hyper-parameters returned by Optuna\n",
    "# ------------------------------------------------------------------\n",
    "best_params = {\n",
    "    \"model__depth\":               10,\n",
    "    \"model__iterations\":          1594,\n",
    "    \"model__learning_rate\":       0.08318728723922084,\n",
    "    \"model__l2_leaf_reg\":         3.7912206788501206,\n",
    "    \"model__bagging_temperature\": 0.3000645110427449,\n",
    "}\n",
    "\n",
    "# ------------------------------------------------------------------\n",
    "# Rebuild the final pipeline\n",
    "# (reuse the same feat_eng transformer defined earlier)\n",
    "# ------------------------------------------------------------------\n",
    "\n",
    "cat_final = CatBoostRegressor(\n",
    "        loss_function=\"RMSE\",\n",
    "        random_seed=42,\n",
    "        verbose=False,\n",
    "        cat_features=[\"Sex\"]\n",
    ")\n",
    "\n",
    "final_pipe = Pipeline([\n",
    "        (\"feat_eng\", feat_eng),\n",
    "        (\"model\",    cat_final)\n",
    "]).set_params(**best_params)\n",
    "\n",
    "# ------------------------------------------------------------------\n",
    "# Fit on the full dataset (train + val)\n",
    "# ------------------------------------------------------------------\n",
    "X_full = pd.concat([X_train, X_val])\n",
    "y_full = pd.concat([y_train, y_val])\n",
    "\n",
    "final_pipe.fit(X_full, y_full)\n",
    "\n",
    "# ------------------------------------------------------------------\n",
    "# Save / log the artefact\n",
    "# ------------------------------------------------------------------\n",
    "joblib.dump(final_pipe, \"calories_catboost_optuna.joblib\")\n",
    "\n",
    "# Log to MLflow\n",
    "with mlflow.start_run(run_name=\"catboost_final_fit\"):\n",
    "    mlflow.log_params(best_params)\n",
    "    mlflow.sklearn.log_model(final_pipe, artifact_path=\"model\")\n"
   ]
  },
  {
   "cell_type": "code",
   "execution_count": 41,
   "id": "74799dd4",
   "metadata": {},
   "outputs": [
    {
     "name": "stdout",
     "output_type": "stream",
     "text": [
      "Run found: bfdc77e266614b8d9d642cc56e14816b\n"
     ]
    }
   ],
   "source": [
    "# LOADING XGBOOST FINAL FROM MLFLOW  ──────────────────────────────────────────────\n",
    "exp = mlflow.get_experiment_by_name(\"xgb_rmsle_1\")\n",
    "\n",
    "runs = mlflow.search_runs(\n",
    "        experiment_ids=[exp.experiment_id],\n",
    "        filter_string='tags.mlflow.runName = \"final_rmsle_model_optuna\"',\n",
    "        order_by=[\"start_time DESC\"],\n",
    "        max_results=1,\n",
    ")\n",
    "final_run_id = runs.iloc[0].run_id\n",
    "print(\"Run found:\", final_run_id)\n",
    "xgb_final = mlflow.sklearn.load_model(f\"runs:/{final_run_id}/model\")"
   ]
  },
  {
   "cell_type": "code",
   "execution_count": 21,
   "id": "6184deca",
   "metadata": {},
   "outputs": [
    {
     "data": {
      "text/plain": [
       "' \\n# Custom Metric for Training Feedback\\ndef rmsle_xgb(preds, dtrain):\\n    y_true = dtrain.get_label()\\n    preds = np.maximum(preds, 0)\\n    rmsle = np.sqrt(np.mean((np.log1p(preds) - np.log1p(y_true)) ** 2))\\n    return \\'rmsle\\', rmsle\\n\\n# Custom Metric for GridSearch (wrapped in make_scorer)\\ndef rmsle_sklearn(y_true, y_pred):\\n    y_pred = np.maximum(y_pred, 0)\\n    return np.sqrt(np.mean((np.log1p(y_pred) - np.log1p(y_true)) ** 2))\\n\\nrmsle_scorer = make_scorer(rmsle_sklearn, greater_is_better=False)\\n\\n# Data\\ndf = pd.read_csv(\\'playground-series-s5e5/train.csv\\')\\ny = df[\\'Calories\\']\\nX = df.drop(columns=([\\'Calories\\', \\'id\\']))\\n\\nX_train, X_val, y_train, y_val = train_test_split(\\n    X, y,\\n    test_size=0.2,\\n    random_state=42,\\n    stratify=X[\\'Sex\\']\\n)\\n\\n# Custom Feature Engineering\\ndef add_bmi_intensity(X_df: pd.DataFrame) -> pd.DataFrame:\\n    \"\"\"Adds BMI and HeartRatexDuration features\"\"\"\\n    X = X_df.copy()\\n    X[\\'BMI\\'] = (X[\\'Weight\\'] / (X[\\'Height\\'] / 100) ** 2).round(2)\\n    X[\\'Timed_Intensity\\'] = X[\\'Duration\\'] * X[\\'Heart_Rate\\']\\n    return X\\n\\nfeat_eng = FunctionTransformer(add_bmi_intensity, validate=False)\\n\\n# Preprocessor\\ncat_col = [\\'Sex\\']\\npreprocess = ColumnTransformer(\\n    transformers=[\\n        (\\'cat\\', OneHotEncoder(drop=\\'first\\'), cat_col)\\n    ],\\n    remainder=\\'passthrough\\'\\n)\\n\\n# ──────────────────────────────────────────────────────────────────────\\n# MODEL & PIPELINE\\n# ──────────────────────────────────────────────────────────────────────\\nxgb = XGBRegressor(\\n        objective=\"reg:squarederror\",\\n        random_state=42,\\n        n_estimators=800,\\n        learning_rate=0.05,\\n        max_depth=6,\\n        subsample=0.8,\\n        colsample_bytree=0.8\\n)\\n\\nxgb_pipe = Pipeline(steps=[\\n        (\"feat_eng\",   feat_eng),\\n        (\"preprocess\", preprocess),\\n        (\"model\",      xgb)\\n])\\n\\nbest_params = {\\n    \"model__max_depth\": 9,\\n    \"model__learning_rate\": 0.023658702935574594,\\n    \"model__n_estimators\": 1373,\\n    \"model__subsample\": 0.9815205434675509,\\n    \"model__colsample_bytree\": 0.8460760959011027,\\n    \"model__reg_alpha\": 0.4849891315002537,\\n    \"model__reg_lambda\": 1.6645566204520426,\\n    \"model__min_child_weight\": 0.37163348840668015\\n    }\\n\\n# fresh clone to avoid any state leakage from grid-search\\nbest_xgb_pipe = clone(xgb_pipe).set_params(\\n        **best_params\\n)\\n'"
      ]
     },
     "execution_count": 21,
     "metadata": {},
     "output_type": "execute_result"
    }
   ],
   "source": [
    "\n",
    "''' \n",
    "# Custom Metric for Training Feedback\n",
    "def rmsle_xgb(preds, dtrain):\n",
    "    y_true = dtrain.get_label()\n",
    "    preds = np.maximum(preds, 0)\n",
    "    rmsle = np.sqrt(np.mean((np.log1p(preds) - np.log1p(y_true)) ** 2))\n",
    "    return 'rmsle', rmsle\n",
    "\n",
    "# Custom Metric for GridSearch (wrapped in make_scorer)\n",
    "def rmsle_sklearn(y_true, y_pred):\n",
    "    y_pred = np.maximum(y_pred, 0)\n",
    "    return np.sqrt(np.mean((np.log1p(y_pred) - np.log1p(y_true)) ** 2))\n",
    "\n",
    "rmsle_scorer = make_scorer(rmsle_sklearn, greater_is_better=False)\n",
    "\n",
    "# Data\n",
    "df = pd.read_csv('playground-series-s5e5/train.csv')\n",
    "y = df['Calories']\n",
    "X = df.drop(columns=(['Calories', 'id']))\n",
    "\n",
    "X_train, X_val, y_train, y_val = train_test_split(\n",
    "    X, y,\n",
    "    test_size=0.2,\n",
    "    random_state=42,\n",
    "    stratify=X['Sex']\n",
    ")\n",
    "\n",
    "# Custom Feature Engineering\n",
    "def add_bmi_intensity(X_df: pd.DataFrame) -> pd.DataFrame:\n",
    "    \"\"\"Adds BMI and HeartRatexDuration features\"\"\"\n",
    "    X = X_df.copy()\n",
    "    X['BMI'] = (X['Weight'] / (X['Height'] / 100) ** 2).round(2)\n",
    "    X['Timed_Intensity'] = X['Duration'] * X['Heart_Rate']\n",
    "    return X\n",
    "\n",
    "feat_eng = FunctionTransformer(add_bmi_intensity, validate=False)\n",
    "\n",
    "# Preprocessor\n",
    "cat_col = ['Sex']\n",
    "preprocess = ColumnTransformer(\n",
    "    transformers=[\n",
    "        ('cat', OneHotEncoder(drop='first'), cat_col)\n",
    "    ],\n",
    "    remainder='passthrough'\n",
    ")\n",
    "\n",
    "# ──────────────────────────────────────────────────────────────────────\n",
    "# MODEL & PIPELINE\n",
    "# ──────────────────────────────────────────────────────────────────────\n",
    "xgb = XGBRegressor(\n",
    "        objective=\"reg:squarederror\",\n",
    "        random_state=42,\n",
    "        n_estimators=800,\n",
    "        learning_rate=0.05,\n",
    "        max_depth=6,\n",
    "        subsample=0.8,\n",
    "        colsample_bytree=0.8\n",
    ")\n",
    "\n",
    "xgb_pipe = Pipeline(steps=[\n",
    "        (\"feat_eng\",   feat_eng),\n",
    "        (\"preprocess\", preprocess),\n",
    "        (\"model\",      xgb)\n",
    "])\n",
    "\n",
    "best_params = {\n",
    "    \"model__max_depth\": 9,\n",
    "    \"model__learning_rate\": 0.023658702935574594,\n",
    "    \"model__n_estimators\": 1373,\n",
    "    \"model__subsample\": 0.9815205434675509,\n",
    "    \"model__colsample_bytree\": 0.8460760959011027,\n",
    "    \"model__reg_alpha\": 0.4849891315002537,\n",
    "    \"model__reg_lambda\": 1.6645566204520426,\n",
    "    \"model__min_child_weight\": 0.37163348840668015\n",
    "    }\n",
    "\n",
    "# fresh clone to avoid any state leakage from grid-search\n",
    "best_xgb_pipe = clone(xgb_pipe).set_params(\n",
    "        **best_params\n",
    ")\n",
    "'''"
   ]
  },
  {
   "cell_type": "code",
   "execution_count": 42,
   "id": "96ffdd48",
   "metadata": {},
   "outputs": [
    {
     "name": "stderr",
     "output_type": "stream",
     "text": [
      "2025/05/25 15:03:08 INFO mlflow.utils.autologging_utils: Created MLflow autologging run with ID '5d7e909476114628a3bd6390900eaf8e', which will track hyperparameters, performance metrics, model artifacts, and lineage information for the current sklearn workflow\n",
      "2025/05/25 15:29:35 WARNING mlflow.utils.autologging_utils: MLflow autologging encountered a warning: \"C:\\Users\\afise\\AppData\\Local\\Packages\\PythonSoftwareFoundation.Python.3.11_qbz5n2kfra8p0\\LocalCache\\local-packages\\Python311\\site-packages\\mlflow\\types\\utils.py:407: UserWarning: Hint: Inferred schema contains integer column(s). Integer columns in Python cannot represent missing values. If your input data contains missing values at inference time, it will be encoded as floats and will cause a schema enforcement error. The best way to avoid this problem is to infer the model schema based on a realistic data sample (training dataset) that includes missing values. Alternatively, you can declare integer columns as doubles (float64) whenever these columns may have missing values. See `Handling Integers With Missing Values <https://www.mlflow.org/docs/latest/models.html#handling-integers-with-missing-values>`_ for more details.\"\n",
      "2025/05/25 15:30:01 WARNING mlflow.utils.autologging_utils: MLflow autologging encountered a warning: \"C:\\Users\\afise\\AppData\\Local\\Packages\\PythonSoftwareFoundation.Python.3.11_qbz5n2kfra8p0\\LocalCache\\local-packages\\Python311\\site-packages\\sklearn\\compose\\_column_transformer.py:1623: FutureWarning: \n",
      "The format of the columns of the 'remainder' transformer in ColumnTransformer.transformers_ will change in version 1.7 to match the format of the other transformers.\n",
      "At the moment the remainder columns are stored as indices (of type int). With the same ColumnTransformer configuration, in the future they will be stored as column names (of type str).\n",
      "To use the new behavior now and suppress this warning, use ColumnTransformer(force_int_remainder_cols=False).\n",
      "\"\n",
      "2025/05/25 15:30:01 INFO mlflow.tracking._tracking_service.client: 🏃 View run capricious-quail-581 at: http://127.0.0.1:5000/#/experiments/10/runs/5d7e909476114628a3bd6390900eaf8e.\n",
      "2025/05/25 15:30:01 INFO mlflow.tracking._tracking_service.client: 🧪 View experiment at: http://127.0.0.1:5000/#/experiments/10.\n",
      "2025/05/25 15:30:01 INFO mlflow.utils.autologging_utils: Created MLflow autologging run with ID '3004aae2b4674c12a20380f940cf99e5', which will track hyperparameters, performance metrics, model artifacts, and lineage information for the current sklearn workflow\n",
      "2025/05/25 15:56:26 WARNING mlflow.utils.autologging_utils: MLflow autologging encountered a warning: \"C:\\Users\\afise\\AppData\\Local\\Packages\\PythonSoftwareFoundation.Python.3.11_qbz5n2kfra8p0\\LocalCache\\local-packages\\Python311\\site-packages\\mlflow\\types\\utils.py:407: UserWarning: Hint: Inferred schema contains integer column(s). Integer columns in Python cannot represent missing values. If your input data contains missing values at inference time, it will be encoded as floats and will cause a schema enforcement error. The best way to avoid this problem is to infer the model schema based on a realistic data sample (training dataset) that includes missing values. Alternatively, you can declare integer columns as doubles (float64) whenever these columns may have missing values. See `Handling Integers With Missing Values <https://www.mlflow.org/docs/latest/models.html#handling-integers-with-missing-values>`_ for more details.\"\n",
      "2025/05/25 15:57:48 INFO mlflow.tracking._tracking_service.client: 🏃 View run luminous-whale-752 at: http://127.0.0.1:5000/#/experiments/10/runs/3004aae2b4674c12a20380f940cf99e5.\n",
      "2025/05/25 15:57:48 INFO mlflow.tracking._tracking_service.client: 🧪 View experiment at: http://127.0.0.1:5000/#/experiments/10.\n",
      "2025/05/25 16:04:27 WARNING mlflow.utils.autologging_utils: MLflow autologging encountered a warning: \"C:\\Users\\afise\\AppData\\Local\\Packages\\PythonSoftwareFoundation.Python.3.11_qbz5n2kfra8p0\\LocalCache\\local-packages\\Python311\\site-packages\\mlflow\\types\\utils.py:407: UserWarning: Hint: Inferred schema contains integer column(s). Integer columns in Python cannot represent missing values. If your input data contains missing values at inference time, it will be encoded as floats and will cause a schema enforcement error. The best way to avoid this problem is to infer the model schema based on a realistic data sample (training dataset) that includes missing values. Alternatively, you can declare integer columns as doubles (float64) whenever these columns may have missing values. See `Handling Integers With Missing Values <https://www.mlflow.org/docs/latest/models.html#handling-integers-with-missing-values>`_ for more details.\"\n",
      "2025/05/25 16:11:00 WARNING mlflow.utils.autologging_utils: MLflow autologging encountered a warning: \"C:\\Users\\afise\\AppData\\Local\\Packages\\PythonSoftwareFoundation.Python.3.11_qbz5n2kfra8p0\\LocalCache\\local-packages\\Python311\\site-packages\\mlflow\\types\\utils.py:407: UserWarning: Hint: Inferred schema contains integer column(s). Integer columns in Python cannot represent missing values. If your input data contains missing values at inference time, it will be encoded as floats and will cause a schema enforcement error. The best way to avoid this problem is to infer the model schema based on a realistic data sample (training dataset) that includes missing values. Alternatively, you can declare integer columns as doubles (float64) whenever these columns may have missing values. See `Handling Integers With Missing Values <https://www.mlflow.org/docs/latest/models.html#handling-integers-with-missing-values>`_ for more details.\"\n"
     ]
    },
    {
     "name": "stdout",
     "output_type": "stream",
     "text": [
      "Optimal blend weight (train-only models): 0.656\n"
     ]
    }
   ],
   "source": [
    "# ------------------------------------------------------------------\n",
    "# 1. temporary clones, TRAIN-only fit\n",
    "# ------------------------------------------------------------------\n",
    "xgb_trn = clone(xgb_final).fit(X_train, y_train)\n",
    "cat_trn = clone(final_pipe).fit(X_train, y_train)\n",
    "\n",
    "xgb_val = xgb_trn.predict(X_val)\n",
    "cat_val = cat_trn.predict(X_val)\n",
    "\n",
    "from scipy.optimize import minimize_scalar\n",
    "w_opt = minimize_scalar(\n",
    "           lambda w: rmsle_sklearn(y_val, w*xgb_val + (1-w)*cat_val),\n",
    "           bounds=(0, 1), method=\"bounded\"\n",
    "       ).x\n",
    "\n",
    "print(f\"Optimal blend weight (train-only models): {w_opt:.3f}\")"
   ]
  },
  {
   "cell_type": "code",
   "execution_count": 43,
   "id": "ce896c83",
   "metadata": {},
   "outputs": [
    {
     "name": "stderr",
     "output_type": "stream",
     "text": [
      "2025/05/25 16:23:23 WARNING mlflow.utils.autologging_utils: MLflow autologging encountered a warning: \"C:\\Users\\afise\\AppData\\Local\\Packages\\PythonSoftwareFoundation.Python.3.11_qbz5n2kfra8p0\\LocalCache\\local-packages\\Python311\\site-packages\\mlflow\\types\\utils.py:407: UserWarning: Hint: Inferred schema contains integer column(s). Integer columns in Python cannot represent missing values. If your input data contains missing values at inference time, it will be encoded as floats and will cause a schema enforcement error. The best way to avoid this problem is to infer the model schema based on a realistic data sample (training dataset) that includes missing values. Alternatively, you can declare integer columns as doubles (float64) whenever these columns may have missing values. See `Handling Integers With Missing Values <https://www.mlflow.org/docs/latest/models.html#handling-integers-with-missing-values>`_ for more details.\"\n",
      "2025/05/25 16:34:24 WARNING mlflow.utils.autologging_utils: MLflow autologging encountered a warning: \"C:\\Users\\afise\\AppData\\Local\\Packages\\PythonSoftwareFoundation.Python.3.11_qbz5n2kfra8p0\\LocalCache\\local-packages\\Python311\\site-packages\\mlflow\\types\\utils.py:407: UserWarning: Hint: Inferred schema contains integer column(s). Integer columns in Python cannot represent missing values. If your input data contains missing values at inference time, it will be encoded as floats and will cause a schema enforcement error. The best way to avoid this problem is to infer the model schema based on a realistic data sample (training dataset) that includes missing values. Alternatively, you can declare integer columns as doubles (float64) whenever these columns may have missing values. See `Handling Integers With Missing Values <https://www.mlflow.org/docs/latest/models.html#handling-integers-with-missing-values>`_ for more details.\"\n"
     ]
    }
   ],
   "source": [
    "# ──────────────────────────────────────────────────────────────────────\n",
    "# TEST SET RUN\n",
    "# ──────────────────────────────────────────────────────────────────────\n",
    "\n",
    "df_test_cat = pd.read_csv(\"playground-series-s5e5/test.csv\")\n",
    "ids_cat = df_test_cat[\"id\"]\n",
    "\n",
    "X_test_cat = df_test_cat.drop(columns=[\"id\"])\n",
    "test_preds_cat = final_pipe.predict(X_test_cat)\n",
    "\n",
    "df_test_xgb = pd.read_csv(\"playground-series-s5e5/test.csv\")\n",
    "ids_xgb = df_test_xgb[\"id\"]\n",
    "\n",
    "X_test_xgb = df_test_xgb.drop(columns=[\"id\"])\n",
    "test_preds_xgb = xgb_final.predict(X_test_xgb)\n",
    "\n",
    "final_pred = w_opt * test_preds_xgb + (1 - w_opt) * test_preds_cat\n",
    "final_pred = np.maximum(final_pred, 0)\n",
    "\n",
    "submission = pd.DataFrame({\n",
    "    \"id\": ids_cat,\n",
    "    \"Calories\": final_pred\n",
    "})\n",
    "\n",
    "import os\n",
    "if os.path.isfile(\"submission_5.csv\"):\n",
    "    pass\n",
    "else:\n",
    "    submission.to_csv(\"submission_5.csv\", index=False)"
   ]
  },
  {
   "cell_type": "code",
   "execution_count": 44,
   "id": "d7889732",
   "metadata": {},
   "outputs": [],
   "source": [
    "# ──────────────────────────────────────────────────────────────────────\n",
    "# POST TRAINING EDA\n",
    "# ──────────────────────────────────────────────────────────────────────\n",
    "xgb_est = xgb_final.named_steps[\"model\"]\n",
    "cb_est = final_pipe.named_steps[\"model\"]\n",
    "\n",
    "X_sample = feat_eng.transform(X_full.head(1))           \n",
    "ct = xgb_final.named_steps[\"preprocess\"]          \n",
    "feat_names = ct.get_feature_names_out(X_sample.columns)\n",
    "feat_names_cb = cb_est.feature_names_"
   ]
  },
  {
   "cell_type": "code",
   "execution_count": 45,
   "id": "4ad42433",
   "metadata": {},
   "outputs": [
    {
     "data": {
      "text/plain": [
       "<Axes: >"
      ]
     },
     "execution_count": 45,
     "metadata": {},
     "output_type": "execute_result"
    },
    {
     "data": {
      "image/png": "[encoded data removed]",
      "text/plain": [
       "<Figure size 600x400 with 1 Axes>"
      ]
     },
     "metadata": {},
     "output_type": "display_data"
    }
   ],
   "source": [
    "# ──────────────────────────────────────────────────────────────────────\n",
    "# Classic gain / split importance\n",
    "# ──────────────────────────────────────────────────────────────────────\n",
    "\n",
    "# XGBoost\n",
    "feat_names = ct.get_feature_names_out(feat_eng.transform(X_full.head(1)).columns)\n",
    "fname_map = {f\"f{idx}\": name for idx, name in enumerate(feat_names)}\n",
    "raw_gain = xgb_est.get_booster().get_score(importance_type=\"gain\")\n",
    "gain_named = {fname_map[k]: v for k, v in raw_gain.items()}\n",
    "\n",
    "fi_xgb = (pd.Series(gain_named)\n",
    "            .sort_values(ascending=False)\n",
    "            .head(15))             \n",
    "\n",
    "fi_xgb.plot.barh(figsize=(6,4))"
   ]
  },
  {
   "cell_type": "code",
   "execution_count": 46,
   "id": "d2d894f8",
   "metadata": {},
   "outputs": [
    {
     "data": {
      "text/plain": [
       "<Axes: >"
      ]
     },
     "execution_count": 46,
     "metadata": {},
     "output_type": "execute_result"
    },
    {
     "data": {
      "image/png": "[encoded data removed]",
      "text/plain": [
       "<Figure size 600x400 with 1 Axes>"
      ]
     },
     "metadata": {},
     "output_type": "display_data"
    }
   ],
   "source": [
    "# CatBoost\n",
    "fi_cb = pd.Series(cb_est.get_feature_importance(prettified=False),\n",
    "                  index=feat_names_cb).sort_values(ascending=False)\n",
    "fi_cb.head(15).plot.barh(figsize=(6,4))"
   ]
  }
 ],
 "metadata": {
  "kernelspec": {
   "display_name": "Python 3",
   "language": "python",
   "name": "python3"
  },
  "language_info": {
   "codemirror_mode": {
    "name": "ipython",
    "version": 3
   },
   "file_extension": ".py",
   "mimetype": "text/x-python",
   "name": "python",
   "nbconvert_exporter": "python",
   "pygments_lexer": "ipython3",
   "version": "3.11.9"
  }
 },
 "nbformat": 4,
 "nbformat_minor": 5
}
