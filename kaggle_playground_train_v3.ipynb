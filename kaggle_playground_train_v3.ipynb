{
 "cells": [
  {
   "cell_type": "code",
   "execution_count": 1,
   "id": "06932f58",
   "metadata": {},
   "outputs": [],
   "source": [
    "# Packages\n",
    "import pandas as pd\n",
    "import numpy as np\n",
    "from sklearn.pipeline        import Pipeline\n",
    "from sklearn.compose         import ColumnTransformer\n",
    "from sklearn.preprocessing   import OneHotEncoder, FunctionTransformer\n",
    "from sklearn.model_selection import GridSearchCV, train_test_split, cross_val_score, KFold\n",
    "from sklearn.metrics         import make_scorer\n",
    "from sklearn.base            import clone\n",
    "from xgboost                 import XGBRegressor\n",
    "import joblib, mlflow\n",
    "import mlflow.sklearn\n",
    "import optuna\n",
    "import warnings\n",
    "from optuna.integration import OptunaSearchCV, MLflowCallback\n",
    "from optuna.distributions import FloatDistribution, IntDistribution\n",
    "from catboost import CatBoostRegressor, Pool\n",
    "\n",
    "# Custom Metric for Training Feedback\n",
    "def rmsle_xgb(preds, dtrain):\n",
    "    y_true = dtrain.get_label()\n",
    "    preds = np.maximum(preds, 0)\n",
    "    rmsle = np.sqrt(np.mean((np.log1p(preds) - np.log1p(y_true)) ** 2))\n",
    "    return 'rmsle', rmsle\n",
    "\n",
    "# Custom Metric for GridSearch (wrapped in make_scorer)\n",
    "def rmsle_sklearn(y_true, y_pred):\n",
    "    y_pred = np.maximum(y_pred, 0)\n",
    "    return np.sqrt(np.mean((np.log1p(y_pred) - np.log1p(y_true)) ** 2))\n",
    "\n",
    "rmsle_scorer = make_scorer(rmsle_sklearn, greater_is_better=False)\n",
    "# Data\n",
    "df = pd.read_csv('playground-series-s5e5/train.csv')\n",
    "y = df['Calories']\n",
    "X = df.drop(columns=(['Calories', 'id']))\n",
    "\n",
    "X_train, X_val, y_train, y_val = train_test_split(\n",
    "    X, y,\n",
    "    test_size=0.2,\n",
    "    random_state=42,\n",
    "    stratify=X['Sex']\n",
    ")\n",
    "\n",
    "# Custom Feature Engineering\n",
    "def add_bmi_intensity(X_df: pd.DataFrame) -> pd.DataFrame:\n",
    "    \"\"\"Adds BMI and HeartRatexDuration features\"\"\"\n",
    "    X = X_df.copy()\n",
    "    X['BMI'] = (X['Weight'] / (X['Height'] / 100) ** 2).round(2)\n",
    "    X['Timed_Intensity'] = X['Duration'] * X['Heart_Rate']\n",
    "    return X\n",
    "\n",
    "feat_eng = FunctionTransformer(add_bmi_intensity, validate=False)\n",
    "# ──────────────────────────────────────────────────────────────────────\n",
    "# MODEL & PIPELINE\n",
    "# ──────────────────────────────────────────────────────────────────────\n",
    "cat_model = CatBoostRegressor(\n",
    "        loss_function=\"RMSE\",\n",
    "        random_seed=42,\n",
    "        verbose=False,\n",
    "        cat_features=[\"Sex\"]\n",
    ")\n",
    "\n",
    "pipe = Pipeline([\n",
    "    (\"feat_eng\", feat_eng),\n",
    "    (\"model\", cat_model)\n",
    "])\n",
    "# ──────────────────────────────────────────────────────────────────────\n",
    "# GRID  (prefix params with model__)\n",
    "# ──────────────────────────────────────────────────────────────────────\n",
    "def cat_objective(trial):\n",
    "    params = {\n",
    "        \"model__depth\":               trial.suggest_int(\"model__depth\", 5, 10),\n",
    "        \"model__iterations\":          trial.suggest_int(\"model__iterations\", 600, 1600),\n",
    "        \"model__learning_rate\":       trial.suggest_float(\"model__learning_rate\", 0.01, 0.2, log=True),\n",
    "        \"model__l2_leaf_reg\":         trial.suggest_float(\"model__l2_leaf_reg\", 1, 10, log=True),\n",
    "        \"model__bagging_temperature\": trial.suggest_float(\"model__bagging_temperature\", 0, 1),\n",
    "    }\n",
    "\n",
    "    score = cross_val_score(\n",
    "                clone(pipe).set_params(**params),\n",
    "                X_train, y_train,\n",
    "                scoring=rmsle_scorer,\n",
    "                cv=5,\n",
    "                n_jobs=-1\n",
    "            ).mean()\n",
    "    return score"
   ]
  },
  {
   "cell_type": "code",
   "execution_count": 2,
   "id": "18f17d8b",
   "metadata": {},
   "outputs": [
    {
     "name": "stderr",
     "output_type": "stream",
     "text": [
      "[I 2025-05-19 21:35:06,179] A new study created in memory with name: cat_rmsle_1\n",
      "C:\\Users\\afise\\AppData\\Local\\Temp\\ipykernel_16528\\1734340983.py:13: ExperimentalWarning: MLflowCallback is experimental (supported from v1.4.0). The interface can change in the future.\n",
      "  mlflow_cb = MLflowCallback(\n"
     ]
    },
    {
     "data": {
      "application/vnd.jupyter.widget-view+json": {
       "model_id": "d939ba1cad93487a9c999388bff78412",
       "version_major": 2,
       "version_minor": 0
      },
      "text/plain": [
       "  0%|          | 0/50 [00:00<?, ?it/s]"
      ]
     },
     "metadata": {},
     "output_type": "display_data"
    },
    {
     "name": "stderr",
     "output_type": "stream",
     "text": [
      "2025/05/19 21:36:40 INFO mlflow.tracking.fluent: Experiment with name 'cat_rmsle_1' does not exist. Creating a new experiment.\n",
      "2025/05/19 21:36:40 INFO mlflow.tracking._tracking_service.client: 🏃 View run 0 at: http://127.0.0.1:5000/#/experiments/10/runs/3b9dd71c8d3d4066992da5004a7080b0.\n",
      "2025/05/19 21:36:40 INFO mlflow.tracking._tracking_service.client: 🧪 View experiment at: http://127.0.0.1:5000/#/experiments/10.\n"
     ]
    },
    {
     "name": "stdout",
     "output_type": "stream",
     "text": [
      "[I 2025-05-19 21:36:40,275] Trial 0 finished with value: -0.06290707511070118 and parameters: {'model__depth': 6, 'model__iterations': 1517, 'model__learning_rate': 0.019863489283838083, 'model__l2_leaf_reg': 1.642491420314437, 'model__bagging_temperature': 0.8547463660763194}. Best is trial 0 with value: -0.06290707511070118.\n"
     ]
    },
    {
     "name": "stderr",
     "output_type": "stream",
     "text": [
      "2025/05/19 21:37:41 INFO mlflow.tracking._tracking_service.client: 🏃 View run 1 at: http://127.0.0.1:5000/#/experiments/10/runs/a746aba15c3347eab697f63c5f08989d.\n",
      "2025/05/19 21:37:41 INFO mlflow.tracking._tracking_service.client: 🧪 View experiment at: http://127.0.0.1:5000/#/experiments/10.\n"
     ]
    },
    {
     "name": "stdout",
     "output_type": "stream",
     "text": [
      "[I 2025-05-19 21:37:41,330] Trial 1 finished with value: -0.06797043411748069 and parameters: {'model__depth': 9, 'model__iterations': 686, 'model__learning_rate': 0.011896472578826598, 'model__l2_leaf_reg': 6.822410342264776, 'model__bagging_temperature': 0.9622503498360411}. Best is trial 0 with value: -0.06290707511070118.\n"
     ]
    },
    {
     "name": "stderr",
     "output_type": "stream",
     "text": [
      "2025/05/19 21:38:54 INFO mlflow.tracking._tracking_service.client: 🏃 View run 2 at: http://127.0.0.1:5000/#/experiments/10/runs/cc3c54cf67614d52a635cbde36cf83ef.\n",
      "2025/05/19 21:38:54 INFO mlflow.tracking._tracking_service.client: 🧪 View experiment at: http://127.0.0.1:5000/#/experiments/10.\n"
     ]
    },
    {
     "name": "stdout",
     "output_type": "stream",
     "text": [
      "[I 2025-05-19 21:38:54,821] Trial 2 finished with value: -0.0632728865703585 and parameters: {'model__depth': 8, 'model__iterations': 961, 'model__learning_rate': 0.015409289194203197, 'model__l2_leaf_reg': 1.3958072633878837, 'model__bagging_temperature': 0.25864999990397364}. Best is trial 0 with value: -0.06290707511070118.\n"
     ]
    },
    {
     "name": "stderr",
     "output_type": "stream",
     "text": [
      "2025/05/19 21:40:10 INFO mlflow.tracking._tracking_service.client: 🏃 View run 3 at: http://127.0.0.1:5000/#/experiments/10/runs/2a403bad270143f49edcfffed91cbf6b.\n",
      "2025/05/19 21:40:10 INFO mlflow.tracking._tracking_service.client: 🧪 View experiment at: http://127.0.0.1:5000/#/experiments/10.\n"
     ]
    },
    {
     "name": "stdout",
     "output_type": "stream",
     "text": [
      "[I 2025-05-19 21:40:09,922] Trial 3 finished with value: -0.0625053446667013 and parameters: {'model__depth': 7, 'model__iterations': 1117, 'model__learning_rate': 0.027368735962639664, 'model__l2_leaf_reg': 6.052198846751312, 'model__bagging_temperature': 0.38303492365862435}. Best is trial 3 with value: -0.0625053446667013.\n"
     ]
    },
    {
     "name": "stderr",
     "output_type": "stream",
     "text": [
      "2025/05/19 21:41:22 INFO mlflow.tracking._tracking_service.client: 🏃 View run 4 at: http://127.0.0.1:5000/#/experiments/10/runs/f9f206f6020f4941bf2a85fcd04832a5.\n",
      "2025/05/19 21:41:22 INFO mlflow.tracking._tracking_service.client: 🧪 View experiment at: http://127.0.0.1:5000/#/experiments/10.\n"
     ]
    },
    {
     "name": "stdout",
     "output_type": "stream",
     "text": [
      "[I 2025-05-19 21:41:22,791] Trial 4 finished with value: -0.06181261964498715 and parameters: {'model__depth': 7, 'model__iterations': 1085, 'model__learning_rate': 0.0343836808118711, 'model__l2_leaf_reg': 1.414203413712691, 'model__bagging_temperature': 0.2647330901210375}. Best is trial 4 with value: -0.06181261964498715.\n"
     ]
    },
    {
     "name": "stderr",
     "output_type": "stream",
     "text": [
      "2025/05/19 21:42:22 INFO mlflow.tracking._tracking_service.client: 🏃 View run 5 at: http://127.0.0.1:5000/#/experiments/10/runs/33b1fbfbce8f4f2480f37c3795e83315.\n",
      "2025/05/19 21:42:22 INFO mlflow.tracking._tracking_service.client: 🧪 View experiment at: http://127.0.0.1:5000/#/experiments/10.\n"
     ]
    },
    {
     "name": "stdout",
     "output_type": "stream",
     "text": [
      "[I 2025-05-19 21:42:22,465] Trial 5 finished with value: -0.06203715006361271 and parameters: {'model__depth': 7, 'model__iterations': 885, 'model__learning_rate': 0.04144342517145869, 'model__l2_leaf_reg': 1.7336537294345207, 'model__bagging_temperature': 0.7223473856605328}. Best is trial 4 with value: -0.06181261964498715.\n"
     ]
    },
    {
     "name": "stderr",
     "output_type": "stream",
     "text": [
      "2025/05/19 21:43:40 INFO mlflow.tracking._tracking_service.client: 🏃 View run 6 at: http://127.0.0.1:5000/#/experiments/10/runs/bbe215fac1b94877b66b3e9babcca82b.\n",
      "2025/05/19 21:43:40 INFO mlflow.tracking._tracking_service.client: 🧪 View experiment at: http://127.0.0.1:5000/#/experiments/10.\n"
     ]
    },
    {
     "name": "stdout",
     "output_type": "stream",
     "text": [
      "[I 2025-05-19 21:43:40,086] Trial 6 finished with value: -0.06119100175553294 and parameters: {'model__depth': 10, 'model__iterations': 742, 'model__learning_rate': 0.05185842567078314, 'model__l2_leaf_reg': 6.704190249590489, 'model__bagging_temperature': 0.9037314245491962}. Best is trial 6 with value: -0.06119100175553294.\n"
     ]
    },
    {
     "name": "stderr",
     "output_type": "stream",
     "text": [
      "2025/05/19 21:46:07 INFO mlflow.tracking._tracking_service.client: 🏃 View run 7 at: http://127.0.0.1:5000/#/experiments/10/runs/81f88019341148de84931c61322f2bc6.\n",
      "2025/05/19 21:46:07 INFO mlflow.tracking._tracking_service.client: 🧪 View experiment at: http://127.0.0.1:5000/#/experiments/10.\n"
     ]
    },
    {
     "name": "stdout",
     "output_type": "stream",
     "text": [
      "[I 2025-05-19 21:46:07,074] Trial 7 finished with value: -0.060700286684558 and parameters: {'model__depth': 10, 'model__iterations': 1408, 'model__learning_rate': 0.13373964837206492, 'model__l2_leaf_reg': 1.931614376196797, 'model__bagging_temperature': 0.8435843250372048}. Best is trial 7 with value: -0.060700286684558.\n"
     ]
    },
    {
     "name": "stderr",
     "output_type": "stream",
     "text": [
      "2025/05/19 21:48:39 INFO mlflow.tracking._tracking_service.client: 🏃 View run 8 at: http://127.0.0.1:5000/#/experiments/10/runs/828b09cff8854d908d19883a0c5211b9.\n",
      "2025/05/19 21:48:39 INFO mlflow.tracking._tracking_service.client: 🧪 View experiment at: http://127.0.0.1:5000/#/experiments/10.\n"
     ]
    },
    {
     "name": "stdout",
     "output_type": "stream",
     "text": [
      "[I 2025-05-19 21:48:39,407] Trial 8 finished with value: -0.06066439567158623 and parameters: {'model__depth': 10, 'model__iterations': 1470, 'model__learning_rate': 0.13020944010899446, 'model__l2_leaf_reg': 4.812138669125355, 'model__bagging_temperature': 0.8933321903608331}. Best is trial 8 with value: -0.06066439567158623.\n"
     ]
    },
    {
     "name": "stderr",
     "output_type": "stream",
     "text": [
      "2025/05/19 21:49:54 INFO mlflow.tracking._tracking_service.client: 🏃 View run 9 at: http://127.0.0.1:5000/#/experiments/10/runs/183e9bc9b85945f08176905d0ca784bd.\n",
      "2025/05/19 21:49:54 INFO mlflow.tracking._tracking_service.client: 🧪 View experiment at: http://127.0.0.1:5000/#/experiments/10.\n"
     ]
    },
    {
     "name": "stdout",
     "output_type": "stream",
     "text": [
      "[I 2025-05-19 21:49:54,327] Trial 9 finished with value: -0.06233442614188891 and parameters: {'model__depth': 6, 'model__iterations': 1236, 'model__learning_rate': 0.04015278526622593, 'model__l2_leaf_reg': 3.5670475261582153, 'model__bagging_temperature': 0.031135833562081272}. Best is trial 8 with value: -0.06066439567158623.\n"
     ]
    },
    {
     "name": "stderr",
     "output_type": "stream",
     "text": [
      "2025/05/19 21:51:19 INFO mlflow.tracking._tracking_service.client: 🏃 View run 10 at: http://127.0.0.1:5000/#/experiments/10/runs/2adabcf659934dc09dd0953788d6698c.\n",
      "2025/05/19 21:51:19 INFO mlflow.tracking._tracking_service.client: 🧪 View experiment at: http://127.0.0.1:5000/#/experiments/10.\n"
     ]
    },
    {
     "name": "stdout",
     "output_type": "stream",
     "text": [
      "[I 2025-05-19 21:51:19,569] Trial 10 finished with value: -0.062221880587991295 and parameters: {'model__depth': 5, 'model__iterations': 1583, 'model__learning_rate': 0.1955668802466453, 'model__l2_leaf_reg': 3.6718473586896656, 'model__bagging_temperature': 0.6197490592240418}. Best is trial 8 with value: -0.06066439567158623.\n"
     ]
    },
    {
     "name": "stderr",
     "output_type": "stream",
     "text": [
      "2025/05/19 21:53:41 INFO mlflow.tracking._tracking_service.client: 🏃 View run 11 at: http://127.0.0.1:5000/#/experiments/10/runs/2c45f79ff4d444eb9bf62caf0c8a20d1.\n",
      "2025/05/19 21:53:41 INFO mlflow.tracking._tracking_service.client: 🧪 View experiment at: http://127.0.0.1:5000/#/experiments/10.\n"
     ]
    },
    {
     "name": "stdout",
     "output_type": "stream",
     "text": [
      "[I 2025-05-19 21:53:41,727] Trial 11 finished with value: -0.06066766024401846 and parameters: {'model__depth': 10, 'model__iterations': 1358, 'model__learning_rate': 0.1407585812889506, 'model__l2_leaf_reg': 2.552935371283564, 'model__bagging_temperature': 0.7246674783755387}. Best is trial 8 with value: -0.06066439567158623.\n"
     ]
    },
    {
     "name": "stderr",
     "output_type": "stream",
     "text": [
      "2025/05/19 21:55:33 INFO mlflow.tracking._tracking_service.client: 🏃 View run 12 at: http://127.0.0.1:5000/#/experiments/10/runs/bc5ddbdf030f459f86df9a045188315e.\n",
      "2025/05/19 21:55:33 INFO mlflow.tracking._tracking_service.client: 🧪 View experiment at: http://127.0.0.1:5000/#/experiments/10.\n"
     ]
    },
    {
     "name": "stdout",
     "output_type": "stream",
     "text": [
      "[I 2025-05-19 21:55:33,475] Trial 12 finished with value: -0.060692098081406146 and parameters: {'model__depth': 9, 'model__iterations': 1332, 'model__learning_rate': 0.09064130012047546, 'model__l2_leaf_reg': 2.9574818879742555, 'model__bagging_temperature': 0.6246935862576148}. Best is trial 8 with value: -0.06066439567158623.\n"
     ]
    },
    {
     "name": "stderr",
     "output_type": "stream",
     "text": [
      "2025/05/19 21:57:33 INFO mlflow.tracking._tracking_service.client: 🏃 View run 13 at: http://127.0.0.1:5000/#/experiments/10/runs/1258a256bc0a4d4cb546c0e6183d1a82.\n",
      "2025/05/19 21:57:33 INFO mlflow.tracking._tracking_service.client: 🧪 View experiment at: http://127.0.0.1:5000/#/experiments/10.\n"
     ]
    },
    {
     "name": "stdout",
     "output_type": "stream",
     "text": [
      "[I 2025-05-19 21:57:32,986] Trial 13 finished with value: -0.06060498876054118 and parameters: {'model__depth': 9, 'model__iterations': 1431, 'model__learning_rate': 0.08520497240893771, 'model__l2_leaf_reg': 4.676444710047896, 'model__bagging_temperature': 0.7177605781056324}. Best is trial 13 with value: -0.06060498876054118.\n"
     ]
    },
    {
     "name": "stderr",
     "output_type": "stream",
     "text": [
      "2025/05/19 21:59:37 INFO mlflow.tracking._tracking_service.client: 🏃 View run 14 at: http://127.0.0.1:5000/#/experiments/10/runs/70fc16e9cec442f59ea72ac32b6d2994.\n",
      "2025/05/19 21:59:37 INFO mlflow.tracking._tracking_service.client: 🧪 View experiment at: http://127.0.0.1:5000/#/experiments/10.\n"
     ]
    },
    {
     "name": "stdout",
     "output_type": "stream",
     "text": [
      "[I 2025-05-19 21:59:37,311] Trial 14 finished with value: -0.0607747036834872 and parameters: {'model__depth': 9, 'model__iterations': 1513, 'model__learning_rate': 0.06909465244055449, 'model__l2_leaf_reg': 9.933006615265866, 'model__bagging_temperature': 0.5623418884812551}. Best is trial 13 with value: -0.06060498876054118.\n"
     ]
    },
    {
     "name": "stderr",
     "output_type": "stream",
     "text": [
      "2025/05/19 22:01:07 INFO mlflow.tracking._tracking_service.client: 🏃 View run 15 at: http://127.0.0.1:5000/#/experiments/10/runs/2303e605b8224a6d999f031168e76e7b.\n",
      "2025/05/19 22:01:07 INFO mlflow.tracking._tracking_service.client: 🧪 View experiment at: http://127.0.0.1:5000/#/experiments/10.\n"
     ]
    },
    {
     "name": "stdout",
     "output_type": "stream",
     "text": [
      "[I 2025-05-19 22:01:07,687] Trial 15 finished with value: -0.06107070001373405 and parameters: {'model__depth': 8, 'model__iterations': 1215, 'model__learning_rate': 0.08853326105779238, 'model__l2_leaf_reg': 4.521424029837247, 'model__bagging_temperature': 0.7434169848866846}. Best is trial 13 with value: -0.06060498876054118.\n"
     ]
    },
    {
     "name": "stderr",
     "output_type": "stream",
     "text": [
      "2025/05/19 22:03:09 INFO mlflow.tracking._tracking_service.client: 🏃 View run 16 at: http://127.0.0.1:5000/#/experiments/10/runs/03d4325ca7994fcb8272fc64da3afd50.\n",
      "2025/05/19 22:03:09 INFO mlflow.tracking._tracking_service.client: 🧪 View experiment at: http://127.0.0.1:5000/#/experiments/10.\n"
     ]
    },
    {
     "name": "stdout",
     "output_type": "stream",
     "text": [
      "[I 2025-05-19 22:03:09,682] Trial 16 finished with value: -0.06069329851616593 and parameters: {'model__depth': 9, 'model__iterations': 1452, 'model__learning_rate': 0.12193944851142165, 'model__l2_leaf_reg': 4.841906837473247, 'model__bagging_temperature': 0.43024079923647796}. Best is trial 13 with value: -0.06060498876054118.\n"
     ]
    },
    {
     "name": "stderr",
     "output_type": "stream",
     "text": [
      "2025/05/19 22:05:22 INFO mlflow.tracking._tracking_service.client: 🏃 View run 17 at: http://127.0.0.1:5000/#/experiments/10/runs/1efc29064daf419984fdb8b2fd79630a.\n",
      "2025/05/19 22:05:22 INFO mlflow.tracking._tracking_service.client: 🧪 View experiment at: http://127.0.0.1:5000/#/experiments/10.\n"
     ]
    },
    {
     "name": "stdout",
     "output_type": "stream",
     "text": [
      "[I 2025-05-19 22:05:22,581] Trial 17 finished with value: -0.06081200545023078 and parameters: {'model__depth': 10, 'model__iterations': 1271, 'model__learning_rate': 0.18730199502602307, 'model__l2_leaf_reg': 9.001881066238786, 'model__bagging_temperature': 0.9987915625174515}. Best is trial 13 with value: -0.06060498876054118.\n"
     ]
    },
    {
     "name": "stderr",
     "output_type": "stream",
     "text": [
      "2025/05/19 22:07:19 INFO mlflow.tracking._tracking_service.client: 🏃 View run 18 at: http://127.0.0.1:5000/#/experiments/10/runs/b7ec23e519084d7ca61d7849bfe566e3.\n",
      "2025/05/19 22:07:19 INFO mlflow.tracking._tracking_service.client: 🧪 View experiment at: http://127.0.0.1:5000/#/experiments/10.\n"
     ]
    },
    {
     "name": "stdout",
     "output_type": "stream",
     "text": [
      "[I 2025-05-19 22:07:19,174] Trial 18 finished with value: -0.060716681944344465 and parameters: {'model__depth': 8, 'model__iterations': 1571, 'model__learning_rate': 0.06335656658100464, 'model__l2_leaf_reg': 1.0793786226450164, 'model__bagging_temperature': 0.7995314421561608}. Best is trial 13 with value: -0.06060498876054118.\n"
     ]
    },
    {
     "name": "stderr",
     "output_type": "stream",
     "text": [
      "2025/05/19 22:08:52 INFO mlflow.tracking._tracking_service.client: 🏃 View run 19 at: http://127.0.0.1:5000/#/experiments/10/runs/a14aa1fac11e4baca8bd52e280960818.\n",
      "2025/05/19 22:08:52 INFO mlflow.tracking._tracking_service.client: 🧪 View experiment at: http://127.0.0.1:5000/#/experiments/10.\n"
     ]
    },
    {
     "name": "stdout",
     "output_type": "stream",
     "text": [
      "[I 2025-05-19 22:08:52,058] Trial 19 finished with value: -0.06073056302914648 and parameters: {'model__depth': 9, 'model__iterations': 1103, 'model__learning_rate': 0.1010016688232081, 'model__l2_leaf_reg': 4.706025796321239, 'model__bagging_temperature': 0.660644640089384}. Best is trial 13 with value: -0.06060498876054118.\n"
     ]
    },
    {
     "name": "stderr",
     "output_type": "stream",
     "text": [
      "2025/05/19 22:11:21 INFO mlflow.tracking._tracking_service.client: 🏃 View run 20 at: http://127.0.0.1:5000/#/experiments/10/runs/573fe37c0a8c414b92e79ff6194b1b4c.\n",
      "2025/05/19 22:11:21 INFO mlflow.tracking._tracking_service.client: 🧪 View experiment at: http://127.0.0.1:5000/#/experiments/10.\n"
     ]
    },
    {
     "name": "stdout",
     "output_type": "stream",
     "text": [
      "[I 2025-05-19 22:11:21,857] Trial 20 finished with value: -0.06046068732363032 and parameters: {'model__depth': 10, 'model__iterations': 1439, 'model__learning_rate': 0.06604459972920051, 'model__l2_leaf_reg': 2.2160238833012347, 'model__bagging_temperature': 0.47157512773833365}. Best is trial 20 with value: -0.06046068732363032.\n"
     ]
    },
    {
     "name": "stderr",
     "output_type": "stream",
     "text": [
      "2025/05/19 22:13:52 INFO mlflow.tracking._tracking_service.client: 🏃 View run 21 at: http://127.0.0.1:5000/#/experiments/10/runs/7564fe473bd64884afe96d74e94f4a62.\n",
      "2025/05/19 22:13:52 INFO mlflow.tracking._tracking_service.client: 🧪 View experiment at: http://127.0.0.1:5000/#/experiments/10.\n"
     ]
    },
    {
     "name": "stdout",
     "output_type": "stream",
     "text": [
      "[I 2025-05-19 22:13:52,606] Trial 21 finished with value: -0.060476020971121494 and parameters: {'model__depth': 10, 'model__iterations': 1443, 'model__learning_rate': 0.06746873934046116, 'model__l2_leaf_reg': 2.3666941881807957, 'model__bagging_temperature': 0.4578272218214507}. Best is trial 20 with value: -0.06046068732363032.\n"
     ]
    },
    {
     "name": "stderr",
     "output_type": "stream",
     "text": [
      "2025/05/19 22:16:15 INFO mlflow.tracking._tracking_service.client: 🏃 View run 22 at: http://127.0.0.1:5000/#/experiments/10/runs/a88f9ecacdb74a7890f035f83c1f4c11.\n",
      "2025/05/19 22:16:15 INFO mlflow.tracking._tracking_service.client: 🧪 View experiment at: http://127.0.0.1:5000/#/experiments/10.\n"
     ]
    },
    {
     "name": "stdout",
     "output_type": "stream",
     "text": [
      "[I 2025-05-19 22:16:15,202] Trial 22 finished with value: -0.060555223345938804 and parameters: {'model__depth': 10, 'model__iterations': 1365, 'model__learning_rate': 0.0653484700424132, 'model__l2_leaf_reg': 2.337679437921919, 'model__bagging_temperature': 0.4949757947276027}. Best is trial 20 with value: -0.06046068732363032.\n"
     ]
    },
    {
     "name": "stderr",
     "output_type": "stream",
     "text": [
      "2025/05/19 22:18:34 INFO mlflow.tracking._tracking_service.client: 🏃 View run 23 at: http://127.0.0.1:5000/#/experiments/10/runs/b0b059b20adc41edb5e860daebf60db1.\n",
      "2025/05/19 22:18:34 INFO mlflow.tracking._tracking_service.client: 🧪 View experiment at: http://127.0.0.1:5000/#/experiments/10.\n"
     ]
    },
    {
     "name": "stdout",
     "output_type": "stream",
     "text": [
      "[I 2025-05-19 22:18:34,514] Trial 23 finished with value: -0.06054313292764253 and parameters: {'model__depth': 10, 'model__iterations': 1336, 'model__learning_rate': 0.057203240195439195, 'model__l2_leaf_reg': 2.2906577596143225, 'model__bagging_temperature': 0.4592642139812054}. Best is trial 20 with value: -0.06046068732363032.\n"
     ]
    },
    {
     "name": "stderr",
     "output_type": "stream",
     "text": [
      "2025/05/19 22:20:49 INFO mlflow.tracking._tracking_service.client: 🏃 View run 24 at: http://127.0.0.1:5000/#/experiments/10/runs/ddfbc495789643dc925866c044f6d043.\n",
      "2025/05/19 22:20:49 INFO mlflow.tracking._tracking_service.client: 🧪 View experiment at: http://127.0.0.1:5000/#/experiments/10.\n"
     ]
    },
    {
     "name": "stdout",
     "output_type": "stream",
     "text": [
      "[I 2025-05-19 22:20:49,850] Trial 24 finished with value: -0.060502826168789735 and parameters: {'model__depth': 10, 'model__iterations': 1282, 'model__learning_rate': 0.05338739117133298, 'model__l2_leaf_reg': 2.1515809507632513, 'model__bagging_temperature': 0.3023838493248773}. Best is trial 20 with value: -0.06046068732363032.\n"
     ]
    },
    {
     "name": "stderr",
     "output_type": "stream",
     "text": [
      "2025/05/19 22:22:52 INFO mlflow.tracking._tracking_service.client: 🏃 View run 25 at: http://127.0.0.1:5000/#/experiments/10/runs/648da2159b21498492652ac363c403dd.\n",
      "2025/05/19 22:22:52 INFO mlflow.tracking._tracking_service.client: 🧪 View experiment at: http://127.0.0.1:5000/#/experiments/10.\n"
     ]
    },
    {
     "name": "stdout",
     "output_type": "stream",
     "text": [
      "[I 2025-05-19 22:22:52,620] Trial 25 finished with value: -0.06097846745283565 and parameters: {'model__depth': 10, 'model__iterations': 1173, 'model__learning_rate': 0.029599911320317716, 'model__l2_leaf_reg': 2.990803282228848, 'model__bagging_temperature': 0.3211294356229072}. Best is trial 20 with value: -0.06046068732363032.\n"
     ]
    },
    {
     "name": "stderr",
     "output_type": "stream",
     "text": [
      "2025/05/19 22:24:39 INFO mlflow.tracking._tracking_service.client: 🏃 View run 26 at: http://127.0.0.1:5000/#/experiments/10/runs/15a631aec17a4d39ac3489358f56be3c.\n",
      "2025/05/19 22:24:39 INFO mlflow.tracking._tracking_service.client: 🧪 View experiment at: http://127.0.0.1:5000/#/experiments/10.\n"
     ]
    },
    {
     "name": "stdout",
     "output_type": "stream",
     "text": [
      "[I 2025-05-19 22:24:39,683] Trial 26 finished with value: -0.06069459002812653 and parameters: {'model__depth': 9, 'model__iterations': 1270, 'model__learning_rate': 0.048587292100666146, 'model__l2_leaf_reg': 2.0377397064547034, 'model__bagging_temperature': 0.1401144362279625}. Best is trial 20 with value: -0.06046068732363032.\n"
     ]
    },
    {
     "name": "stderr",
     "output_type": "stream",
     "text": [
      "2025/05/19 22:25:54 INFO mlflow.tracking._tracking_service.client: 🏃 View run 27 at: http://127.0.0.1:5000/#/experiments/10/runs/116f7a3187314a08a05ff46892af5564.\n",
      "2025/05/19 22:25:54 INFO mlflow.tracking._tracking_service.client: 🧪 View experiment at: http://127.0.0.1:5000/#/experiments/10.\n"
     ]
    },
    {
     "name": "stdout",
     "output_type": "stream",
     "text": [
      "[I 2025-05-19 22:25:54,722] Trial 27 finished with value: -0.06190768607018225 and parameters: {'model__depth': 8, 'model__iterations': 1001, 'model__learning_rate': 0.022624539504601755, 'model__l2_leaf_reg': 1.0331370594844633, 'model__bagging_temperature': 0.14637291397986252}. Best is trial 20 with value: -0.06046068732363032.\n"
     ]
    },
    {
     "name": "stderr",
     "output_type": "stream",
     "text": [
      "2025/05/19 22:28:11 INFO mlflow.tracking._tracking_service.client: 🏃 View run 28 at: http://127.0.0.1:5000/#/experiments/10/runs/5761d15d60044b078aaf942fdb90b7f2.\n",
      "2025/05/19 22:28:11 INFO mlflow.tracking._tracking_service.client: 🧪 View experiment at: http://127.0.0.1:5000/#/experiments/10.\n"
     ]
    },
    {
     "name": "stdout",
     "output_type": "stream",
     "text": [
      "[I 2025-05-19 22:28:11,342] Trial 28 finished with value: -0.0605054374474468 and parameters: {'model__depth': 10, 'model__iterations': 1301, 'model__learning_rate': 0.07770020492034406, 'model__l2_leaf_reg': 1.3912079193838178, 'model__bagging_temperature': 0.5469958653109257}. Best is trial 20 with value: -0.06046068732363032.\n"
     ]
    },
    {
     "name": "stderr",
     "output_type": "stream",
     "text": [
      "2025/05/19 22:29:35 INFO mlflow.tracking._tracking_service.client: 🏃 View run 29 at: http://127.0.0.1:5000/#/experiments/10/runs/f56f316339fa47e0a87aa65de7849e65.\n",
      "2025/05/19 22:29:35 INFO mlflow.tracking._tracking_service.client: 🧪 View experiment at: http://127.0.0.1:5000/#/experiments/10.\n"
     ]
    },
    {
     "name": "stdout",
     "output_type": "stream",
     "text": [
      "[I 2025-05-19 22:29:35,331] Trial 29 finished with value: -0.06306462012539783 and parameters: {'model__depth': 5, 'model__iterations': 1536, 'model__learning_rate': 0.038210110148284966, 'model__l2_leaf_reg': 2.755495750198426, 'model__bagging_temperature': 0.3547591038642314}. Best is trial 20 with value: -0.06046068732363032.\n"
     ]
    },
    {
     "name": "stderr",
     "output_type": "stream",
     "text": [
      "2025/05/19 22:31:06 INFO mlflow.tracking._tracking_service.client: 🏃 View run 30 at: http://127.0.0.1:5000/#/experiments/10/runs/cb4fbce13f0b4c879f82dc600c40bc69.\n",
      "2025/05/19 22:31:06 INFO mlflow.tracking._tracking_service.client: 🧪 View experiment at: http://127.0.0.1:5000/#/experiments/10.\n"
     ]
    },
    {
     "name": "stdout",
     "output_type": "stream",
     "text": [
      "[I 2025-05-19 22:31:05,965] Trial 30 finished with value: -0.06177558595663883 and parameters: {'model__depth': 6, 'model__iterations': 1501, 'model__learning_rate': 0.04954592984966805, 'model__l2_leaf_reg': 3.531999960568409, 'model__bagging_temperature': 0.1640317411056199}. Best is trial 20 with value: -0.06046068732363032.\n"
     ]
    },
    {
     "name": "stderr",
     "output_type": "stream",
     "text": [
      "2025/05/19 22:33:22 INFO mlflow.tracking._tracking_service.client: 🏃 View run 31 at: http://127.0.0.1:5000/#/experiments/10/runs/b628d146d64f47eab4fe31e31890033b.\n",
      "2025/05/19 22:33:22 INFO mlflow.tracking._tracking_service.client: 🧪 View experiment at: http://127.0.0.1:5000/#/experiments/10.\n"
     ]
    },
    {
     "name": "stdout",
     "output_type": "stream",
     "text": [
      "[I 2025-05-19 22:33:22,278] Trial 31 finished with value: -0.06062716871560164 and parameters: {'model__depth': 10, 'model__iterations': 1302, 'model__learning_rate': 0.07535583149586658, 'model__l2_leaf_reg': 1.411462221378332, 'model__bagging_temperature': 0.5428436173868034}. Best is trial 20 with value: -0.06046068732363032.\n"
     ]
    },
    {
     "name": "stderr",
     "output_type": "stream",
     "text": [
      "2025/05/19 22:35:48 INFO mlflow.tracking._tracking_service.client: 🏃 View run 32 at: http://127.0.0.1:5000/#/experiments/10/runs/26c733fb2f7b47b9a0ab6ba1420c811e.\n",
      "2025/05/19 22:35:48 INFO mlflow.tracking._tracking_service.client: 🧪 View experiment at: http://127.0.0.1:5000/#/experiments/10.\n"
     ]
    },
    {
     "name": "stdout",
     "output_type": "stream",
     "text": [
      "[I 2025-05-19 22:35:48,630] Trial 32 finished with value: -0.06045310480308199 and parameters: {'model__depth': 10, 'model__iterations': 1395, 'model__learning_rate': 0.0714922129952202, 'model__l2_leaf_reg': 1.66331352625327, 'model__bagging_temperature': 0.5336964163281406}. Best is trial 32 with value: -0.06045310480308199.\n"
     ]
    },
    {
     "name": "stderr",
     "output_type": "stream",
     "text": [
      "2025/05/19 22:37:50 INFO mlflow.tracking._tracking_service.client: 🏃 View run 33 at: http://127.0.0.1:5000/#/experiments/10/runs/e540dc2d49b54987ae29b608083e2fd7.\n",
      "2025/05/19 22:37:50 INFO mlflow.tracking._tracking_service.client: 🧪 View experiment at: http://127.0.0.1:5000/#/experiments/10.\n"
     ]
    },
    {
     "name": "stdout",
     "output_type": "stream",
     "text": [
      "[I 2025-05-19 22:37:50,112] Trial 33 finished with value: -0.06069259527234313 and parameters: {'model__depth': 9, 'model__iterations': 1393, 'model__learning_rate': 0.1059035594804567, 'model__l2_leaf_reg': 1.6847496172993528, 'model__bagging_temperature': 0.4161228165832678}. Best is trial 32 with value: -0.06045310480308199.\n"
     ]
    },
    {
     "name": "stderr",
     "output_type": "stream",
     "text": [
      "2025/05/19 22:40:21 INFO mlflow.tracking._tracking_service.client: 🏃 View run 34 at: http://127.0.0.1:5000/#/experiments/10/runs/9c0d6c64633446e18f7949e451ee1594.\n",
      "2025/05/19 22:40:21 INFO mlflow.tracking._tracking_service.client: 🧪 View experiment at: http://127.0.0.1:5000/#/experiments/10.\n"
     ]
    },
    {
     "name": "stdout",
     "output_type": "stream",
     "text": [
      "[I 2025-05-19 22:40:21,718] Trial 34 finished with value: -0.0619795033319535 and parameters: {'model__depth': 10, 'model__iterations': 1453, 'model__learning_rate': 0.010671983741533518, 'model__l2_leaf_reg': 2.0223121346515236, 'model__bagging_temperature': 0.3015811987059799}. Best is trial 32 with value: -0.06045310480308199.\n"
     ]
    },
    {
     "name": "stderr",
     "output_type": "stream",
     "text": [
      "2025/05/19 22:42:05 INFO mlflow.tracking._tracking_service.client: 🏃 View run 35 at: http://127.0.0.1:5000/#/experiments/10/runs/82ce42642a764583a014743e6ed9b4e5.\n",
      "2025/05/19 22:42:05 INFO mlflow.tracking._tracking_service.client: 🧪 View experiment at: http://127.0.0.1:5000/#/experiments/10.\n"
     ]
    },
    {
     "name": "stdout",
     "output_type": "stream",
     "text": [
      "[I 2025-05-19 22:42:05,024] Trial 35 finished with value: -0.06070214845835422 and parameters: {'model__depth': 9, 'model__iterations': 1176, 'model__learning_rate': 0.05807351573558772, 'model__l2_leaf_reg': 2.324838396049196, 'model__bagging_temperature': 0.3754698727986181}. Best is trial 32 with value: -0.06045310480308199.\n"
     ]
    },
    {
     "name": "stderr",
     "output_type": "stream",
     "text": [
      "2025/05/19 22:44:44 INFO mlflow.tracking._tracking_service.client: 🏃 View run 36 at: http://127.0.0.1:5000/#/experiments/10/runs/d70aa994cbc14783920b2da4e79c1cc2.\n",
      "2025/05/19 22:44:44 INFO mlflow.tracking._tracking_service.client: 🧪 View experiment at: http://127.0.0.1:5000/#/experiments/10.\n"
     ]
    },
    {
     "name": "stdout",
     "output_type": "stream",
     "text": [
      "[I 2025-05-19 22:44:44,452] Trial 36 finished with value: -0.06122100586432566 and parameters: {'model__depth': 10, 'model__iterations': 1392, 'model__learning_rate': 0.015091777549057401, 'model__l2_leaf_reg': 1.2145348663975883, 'model__bagging_temperature': 0.20280439993474586}. Best is trial 32 with value: -0.06045310480308199.\n"
     ]
    },
    {
     "name": "stderr",
     "output_type": "stream",
     "text": [
      "2025/05/19 22:46:52 INFO mlflow.tracking._tracking_service.client: 🏃 View run 37 at: http://127.0.0.1:5000/#/experiments/10/runs/f340837c37b74e76941788ec129047d7.\n",
      "2025/05/19 22:46:52 INFO mlflow.tracking._tracking_service.client: 🧪 View experiment at: http://127.0.0.1:5000/#/experiments/10.\n"
     ]
    },
    {
     "name": "stdout",
     "output_type": "stream",
     "text": [
      "[I 2025-05-19 22:46:52,359] Trial 37 finished with value: -0.06074847850565886 and parameters: {'model__depth': 9, 'model__iterations': 1518, 'model__learning_rate': 0.030698280069713608, 'model__l2_leaf_reg': 1.6330998069992733, 'model__bagging_temperature': 0.4801402666874229}. Best is trial 32 with value: -0.06045310480308199.\n"
     ]
    },
    {
     "name": "stderr",
     "output_type": "stream",
     "text": [
      "2025/05/19 22:47:41 INFO mlflow.tracking._tracking_service.client: 🏃 View run 38 at: http://127.0.0.1:5000/#/experiments/10/runs/d557c9e5e2cd4241b8268eb40e91b596.\n",
      "2025/05/19 22:47:41 INFO mlflow.tracking._tracking_service.client: 🧪 View experiment at: http://127.0.0.1:5000/#/experiments/10.\n"
     ]
    },
    {
     "name": "stdout",
     "output_type": "stream",
     "text": [
      "[I 2025-05-19 22:47:41,714] Trial 38 finished with value: -0.06205562077056248 and parameters: {'model__depth': 8, 'model__iterations': 632, 'model__learning_rate': 0.04620265743866096, 'model__l2_leaf_reg': 1.756210458575999, 'model__bagging_temperature': 0.24756007544280556}. Best is trial 32 with value: -0.06045310480308199.\n"
     ]
    },
    {
     "name": "stderr",
     "output_type": "stream",
     "text": [
      "2025/05/19 22:49:20 INFO mlflow.tracking._tracking_service.client: 🏃 View run 39 at: http://127.0.0.1:5000/#/experiments/10/runs/f78814c4d51a4fe58d755391c628c1c8.\n",
      "2025/05/19 22:49:20 INFO mlflow.tracking._tracking_service.client: 🧪 View experiment at: http://127.0.0.1:5000/#/experiments/10.\n"
     ]
    },
    {
     "name": "stdout",
     "output_type": "stream",
     "text": [
      "[I 2025-05-19 22:49:20,032] Trial 39 finished with value: -0.06147613638087986 and parameters: {'model__depth': 10, 'model__iterations': 861, 'model__learning_rate': 0.02324276929197936, 'model__l2_leaf_reg': 1.5473124629355617, 'model__bagging_temperature': 0.4071949249198027}. Best is trial 32 with value: -0.06045310480308199.\n"
     ]
    },
    {
     "name": "stderr",
     "output_type": "stream",
     "text": [
      "2025/05/19 22:50:40 INFO mlflow.tracking._tracking_service.client: 🏃 View run 40 at: http://127.0.0.1:5000/#/experiments/10/runs/7768713f84a244998a72aa7b1702e21b.\n",
      "2025/05/19 22:50:40 INFO mlflow.tracking._tracking_service.client: 🧪 View experiment at: http://127.0.0.1:5000/#/experiments/10.\n"
     ]
    },
    {
     "name": "stdout",
     "output_type": "stream",
     "text": [
      "[I 2025-05-19 22:50:40,418] Trial 40 finished with value: -0.06139557096641812 and parameters: {'model__depth': 7, 'model__iterations': 1191, 'model__learning_rate': 0.05349791376766933, 'model__l2_leaf_reg': 1.9263931416025766, 'model__bagging_temperature': 0.5774096117114406}. Best is trial 32 with value: -0.06045310480308199.\n"
     ]
    },
    {
     "name": "stderr",
     "output_type": "stream",
     "text": [
      "2025/05/19 22:53:07 INFO mlflow.tracking._tracking_service.client: 🏃 View run 41 at: http://127.0.0.1:5000/#/experiments/10/runs/bbb01e3de733420b853c00c50d110f39.\n",
      "2025/05/19 22:53:07 INFO mlflow.tracking._tracking_service.client: 🧪 View experiment at: http://127.0.0.1:5000/#/experiments/10.\n"
     ]
    },
    {
     "name": "stdout",
     "output_type": "stream",
     "text": [
      "[I 2025-05-19 22:53:07,830] Trial 41 finished with value: -0.060636953801812644 and parameters: {'model__depth': 10, 'model__iterations': 1292, 'model__learning_rate': 0.0741368542476326, 'model__l2_leaf_reg': 1.1682568168896643, 'model__bagging_temperature': 0.5281907654553547}. Best is trial 32 with value: -0.06045310480308199.\n"
     ]
    },
    {
     "name": "stderr",
     "output_type": "stream",
     "text": [
      "2025/05/19 22:55:50 INFO mlflow.tracking._tracking_service.client: 🏃 View run 42 at: http://127.0.0.1:5000/#/experiments/10/runs/bba7d14c2f8a4c859209f94f51cc3285.\n",
      "2025/05/19 22:55:50 INFO mlflow.tracking._tracking_service.client: 🧪 View experiment at: http://127.0.0.1:5000/#/experiments/10.\n"
     ]
    },
    {
     "name": "stdout",
     "output_type": "stream",
     "text": [
      "[I 2025-05-19 22:55:50,240] Trial 42 finished with value: -0.06053198024390494 and parameters: {'model__depth': 10, 'model__iterations': 1426, 'model__learning_rate': 0.08384809971399546, 'model__l2_leaf_reg': 1.242731040788285, 'model__bagging_temperature': 0.45719194721267153}. Best is trial 32 with value: -0.06045310480308199.\n"
     ]
    },
    {
     "name": "stderr",
     "output_type": "stream",
     "text": [
      "2025/05/19 22:58:21 INFO mlflow.tracking._tracking_service.client: 🏃 View run 43 at: http://127.0.0.1:5000/#/experiments/10/runs/4db809aaa8e341cd8221a86cd96b3559.\n",
      "2025/05/19 22:58:21 INFO mlflow.tracking._tracking_service.client: 🧪 View experiment at: http://127.0.0.1:5000/#/experiments/10.\n"
     ]
    },
    {
     "name": "stdout",
     "output_type": "stream",
     "text": [
      "[I 2025-05-19 22:58:21,085] Trial 43 finished with value: -0.0605647099036553 and parameters: {'model__depth': 10, 'model__iterations': 1316, 'model__learning_rate': 0.10869558355564994, 'model__l2_leaf_reg': 1.495386769400944, 'model__bagging_temperature': 0.514139167298095}. Best is trial 32 with value: -0.06045310480308199.\n"
     ]
    },
    {
     "name": "stderr",
     "output_type": "stream",
     "text": [
      "2025/05/19 23:00:58 INFO mlflow.tracking._tracking_service.client: 🏃 View run 44 at: http://127.0.0.1:5000/#/experiments/10/runs/af51c29397484939a6dc5d52a65f52ca.\n",
      "2025/05/19 23:00:58 INFO mlflow.tracking._tracking_service.client: 🧪 View experiment at: http://127.0.0.1:5000/#/experiments/10.\n"
     ]
    },
    {
     "name": "stdout",
     "output_type": "stream",
     "text": [
      "[I 2025-05-19 23:00:58,254] Trial 44 finished with value: -0.060496911149981916 and parameters: {'model__depth': 10, 'model__iterations': 1372, 'model__learning_rate': 0.07549763262855613, 'model__l2_leaf_reg': 2.2025998211102658, 'model__bagging_temperature': 0.6030364642791788}. Best is trial 32 with value: -0.06045310480308199.\n"
     ]
    },
    {
     "name": "stderr",
     "output_type": "stream",
     "text": [
      "2025/05/19 23:03:17 INFO mlflow.tracking._tracking_service.client: 🏃 View run 45 at: http://127.0.0.1:5000/#/experiments/10/runs/d9fe62cce124414fbd9a7f897f44161b.\n",
      "2025/05/19 23:03:17 INFO mlflow.tracking._tracking_service.client: 🧪 View experiment at: http://127.0.0.1:5000/#/experiments/10.\n"
     ]
    },
    {
     "name": "stdout",
     "output_type": "stream",
     "text": [
      "[I 2025-05-19 23:03:17,475] Trial 45 finished with value: -0.0606144567787499 and parameters: {'model__depth': 9, 'model__iterations': 1600, 'model__learning_rate': 0.04243463690609688, 'model__l2_leaf_reg': 2.2139761098267705, 'model__bagging_temperature': 0.6534763379604183}. Best is trial 32 with value: -0.06045310480308199.\n"
     ]
    },
    {
     "name": "stderr",
     "output_type": "stream",
     "text": [
      "2025/05/19 23:05:53 INFO mlflow.tracking._tracking_service.client: 🏃 View run 46 at: http://127.0.0.1:5000/#/experiments/10/runs/efdd5889b991475794e82b55d5bce723.\n",
      "2025/05/19 23:05:53 INFO mlflow.tracking._tracking_service.client: 🧪 View experiment at: http://127.0.0.1:5000/#/experiments/10.\n"
     ]
    },
    {
     "name": "stdout",
     "output_type": "stream",
     "text": [
      "[I 2025-05-19 23:05:53,266] Trial 46 finished with value: -0.06051898012332198 and parameters: {'model__depth': 10, 'model__iterations': 1484, 'model__learning_rate': 0.06480805531034482, 'model__l2_leaf_reg': 2.489646934126436, 'model__bagging_temperature': 0.28961813561310484}. Best is trial 32 with value: -0.06045310480308199.\n"
     ]
    },
    {
     "name": "stderr",
     "output_type": "stream",
     "text": [
      "2025/05/19 23:07:50 INFO mlflow.tracking._tracking_service.client: 🏃 View run 47 at: http://127.0.0.1:5000/#/experiments/10/runs/44f9ee68a29c44da814465d1bae4107a.\n",
      "2025/05/19 23:07:50 INFO mlflow.tracking._tracking_service.client: 🧪 View experiment at: http://127.0.0.1:5000/#/experiments/10.\n"
     ]
    },
    {
     "name": "stdout",
     "output_type": "stream",
     "text": [
      "[I 2025-05-19 23:07:50,178] Trial 47 finished with value: -0.060634490523562956 and parameters: {'model__depth': 9, 'model__iterations': 1376, 'model__learning_rate': 0.05974456432484234, 'model__l2_leaf_reg': 1.8515042198468634, 'model__bagging_temperature': 0.6077049142885751}. Best is trial 32 with value: -0.06045310480308199.\n"
     ]
    },
    {
     "name": "stderr",
     "output_type": "stream",
     "text": [
      "2025/05/19 23:09:57 INFO mlflow.tracking._tracking_service.client: 🏃 View run 48 at: http://127.0.0.1:5000/#/experiments/10/runs/eb21c9d7fa3b4206bf93f360602408b6.\n",
      "2025/05/19 23:09:57 INFO mlflow.tracking._tracking_service.client: 🧪 View experiment at: http://127.0.0.1:5000/#/experiments/10.\n"
     ]
    },
    {
     "name": "stdout",
     "output_type": "stream",
     "text": [
      "[I 2025-05-19 23:09:57,138] Trial 48 finished with value: -0.06064790072230131 and parameters: {'model__depth': 10, 'model__iterations': 1046, 'model__learning_rate': 0.07211544593055708, 'model__l2_leaf_reg': 3.276283133060642, 'model__bagging_temperature': 0.34485960990873066}. Best is trial 32 with value: -0.06045310480308199.\n"
     ]
    },
    {
     "name": "stderr",
     "output_type": "stream",
     "text": [
      "2025/05/19 23:11:21 INFO mlflow.tracking._tracking_service.client: 🏃 View run 49 at: http://127.0.0.1:5000/#/experiments/10/runs/cff4d58304154bebb8ee7dfc1fef034f.\n",
      "2025/05/19 23:11:21 INFO mlflow.tracking._tracking_service.client: 🧪 View experiment at: http://127.0.0.1:5000/#/experiments/10.\n",
      "2025/05/19 23:11:21 INFO mlflow.tracking._tracking_service.client: 🏃 View run optuna_parent_cb at: http://127.0.0.1:5000/#/experiments/9/runs/8023985e9bfc429886d770314eae140f.\n",
      "2025/05/19 23:11:21 INFO mlflow.tracking._tracking_service.client: 🧪 View experiment at: http://127.0.0.1:5000/#/experiments/9.\n"
     ]
    },
    {
     "name": "stdout",
     "output_type": "stream",
     "text": [
      "[I 2025-05-19 23:11:21,113] Trial 49 finished with value: -0.06157712099719872 and parameters: {'model__depth': 7, 'model__iterations': 1249, 'model__learning_rate': 0.03743115687159948, 'model__l2_leaf_reg': 2.1177365382088715, 'model__bagging_temperature': 0.08413587583190646}. Best is trial 32 with value: -0.06045310480308199.\n"
     ]
    }
   ],
   "source": [
    "# ------------------------------------------------------------------\n",
    "# MLFLOW + OPTUNA LOOP  (same structure)\n",
    "# ------------------------------------------------------------------\n",
    "mlflow.set_tracking_uri(\"http://127.0.0.1:5000\")\n",
    "\n",
    "\n",
    "mlflow.set_experiment(\"Calories-CB-Optuna-V1\")\n",
    "mlflow.sklearn.autolog(log_models=False)\n",
    "\n",
    "study_cb = optuna.create_study(direction=\"maximize\", study_name=\"cat_rmsle_1\")\n",
    "\n",
    "with mlflow.start_run(run_name=\"optuna_parent_cb\"):\n",
    "    mlflow_cb = MLflowCallback(\n",
    "        tracking_uri=mlflow.get_tracking_uri(),\n",
    "        metric_name=\"neg_rmsle_cv\",\n",
    "        mlflow_kwargs={\"nested\": True}\n",
    "    )\n",
    "\n",
    "    study_cb.optimize(cat_objective, n_trials=50, callbacks=[mlflow_cb], show_progress_bar=True)\n",
    "\n",
    "    mlflow.log_params(study_cb.best_trial.params)\n",
    "    mlflow.log_metric(\"best_neg_rmsle_cv\", study_cb.best_value)"
   ]
  }
 ],
 "metadata": {
  "kernelspec": {
   "display_name": "Python 3",
   "language": "python",
   "name": "python3"
  },
  "language_info": {
   "codemirror_mode": {
    "name": "ipython",
    "version": 3
   },
   "file_extension": ".py",
   "mimetype": "text/x-python",
   "name": "python",
   "nbconvert_exporter": "python",
   "pygments_lexer": "ipython3",
   "version": "3.11.9"
  }
 },
 "nbformat": 4,
 "nbformat_minor": 5
}
